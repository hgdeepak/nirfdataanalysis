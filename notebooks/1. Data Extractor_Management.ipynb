{
 "cells": [
  {
   "cell_type": "markdown",
   "id": "c646d75d",
   "metadata": {},
   "source": [
    "# Installation"
   ]
  },
  {
   "cell_type": "code",
   "execution_count": 1,
   "id": "ee9af4bc",
   "metadata": {},
   "outputs": [],
   "source": [
    "# !pip install tabula-py[jpype]"
   ]
  },
  {
   "cell_type": "markdown",
   "id": "376b562a",
   "metadata": {},
   "source": [
    "# Imports"
   ]
  },
  {
   "cell_type": "code",
   "execution_count": 2,
   "id": "c08d58fa",
   "metadata": {},
   "outputs": [],
   "source": [
    "import os\n",
    "import shutil\n",
    "import numpy as np\n",
    "import pandas as pd\n",
    "from tabula import read_pdf"
   ]
  },
  {
   "cell_type": "markdown",
   "id": "f11b8c39",
   "metadata": {},
   "source": [
    "# Constants"
   ]
  },
  {
   "cell_type": "code",
   "execution_count": 3,
   "id": "7c0018bc",
   "metadata": {},
   "outputs": [],
   "source": [
    "RAW_FILE_DIRECTORY = r\"..\\data\\pdf\"\n",
    "\n",
    "PROCESSED_FILE_DIRECTORY = r\"..\\data\\excel\"\n",
    "\n",
    "ERROR_FILE_DIRECTORY = r\"..\\data\\errorpdf\"\n",
    "\n",
    "data = {}"
   ]
  },
  {
   "cell_type": "markdown",
   "id": "53dfafa5",
   "metadata": {},
   "source": [
    "# Data Extraction"
   ]
  },
  {
   "cell_type": "markdown",
   "id": "5d6c267d",
   "metadata": {},
   "source": [
    "## Get Files"
   ]
  },
  {
   "cell_type": "code",
   "execution_count": 4,
   "id": "fea675b9",
   "metadata": {},
   "outputs": [],
   "source": [
    "files = os.listdir(RAW_FILE_DIRECTORY)\n",
    "\n",
    "files = [f for f in files if os.path.isfile(RAW_FILE_DIRECTORY + '/' + f)]"
   ]
  },
  {
   "cell_type": "code",
   "execution_count": 5,
   "id": "6e9b844b",
   "metadata": {},
   "outputs": [
    {
     "name": "stdout",
     "output_type": "stream",
     "text": [
      "['IR-M-C-19343.pdf', 'IR-M-C-32855.pdf', 'IR-M-C-32887.pdf', 'IR-M-C-34129.pdf', 'IR-M-C-36557.pdf', 'IR-M-C-37013.pdf', 'IR-M-C-56616.pdf', 'IR-M-I-1044.pdf', 'IR-M-I-1064.pdf', 'IR-M-I-1066.pdf', 'IR-M-I-1074.pdf', 'IR-M-I-1075.pdf', 'IR-M-I-1124.pdf', 'IR-M-I-1132.pdf', 'IR-M-I-1170.pdf', 'IR-M-I-1238.pdf', 'IR-M-I-1408.pdf', 'IR-M-I-1441.pdf', 'IR-M-I-1480.pdf', 'IR-M-N-10.pdf', 'IR-M-N-16.pdf', 'IR-M-N-4.pdf', 'IR-M-S-132.pdf', 'IR-M-S-14553.pdf', 'IR-M-S-14565.pdf', 'IR-M-S-14875.pdf', 'IR-M-S-156.pdf', 'IR-M-S-15911.pdf', 'IR-M-S-15962.pdf', 'IR-M-S-164.pdf', 'IR-M-S-16881.pdf', 'IR-M-S-17295.pdf', 'IR-M-S-309.pdf', 'IR-M-S-3283.pdf', 'IR-M-S-354.pdf', 'IR-M-S-394.pdf', 'IR-M-S-419.pdf', 'IR-M-S-6.pdf', 'IR-M-S-87.pdf', 'IR-M-S-8868.pdf', 'IR-M-S-8890.pdf', 'IR-M-S-8895.pdf', 'IR-M-S-8903.pdf', 'IR-M-S-8904.pdf', 'IR-M-S-8909.pdf', 'IR-M-S-8918.pdf', 'IR-M-S-8931.pdf', 'IR-M-S-8937.pdf', 'IR-M-S-8942.pdf', 'IR-M-S-8948.pdf', 'IR-M-S-8959.pdf', 'IR-M-S-8967.pdf', 'IR-M-S-8972.pdf', 'IR-M-S-92.pdf', 'IR-M-U-0012.pdf', 'IR-M-U-0020.pdf', 'IR-M-U-0056.pdf', 'IR-M-U-0078.pdf', 'IR-M-U-0099.pdf', 'IR-M-U-0102.pdf', 'IR-M-U-0107.pdf', 'IR-M-U-0108.pdf', 'IR-M-U-0146.pdf', 'IR-M-U-0147.pdf', 'IR-M-U-0155.pdf', 'IR-M-U-0162.pdf', 'IR-M-U-0202.pdf', 'IR-M-U-0205.pdf', 'IR-M-U-0213.pdf', 'IR-M-U-0217.pdf', 'IR-M-U-0223.pdf', 'IR-M-U-0249.pdf', 'IR-M-U-0263.pdf', 'IR-M-U-0267.pdf', 'IR-M-U-0306.pdf', 'IR-M-U-0356.pdf', 'IR-M-U-0363.pdf', 'IR-M-U-0373.pdf', 'IR-M-U-0379.pdf', 'IR-M-U-0410.pdf', 'IR-M-U-0436.pdf', 'IR-M-U-0439.pdf', 'IR-M-U-0456.pdf', 'IR-M-U-0467.pdf', 'IR-M-U-0496.pdf', 'IR-M-U-0497.pdf', 'IR-M-U-0498.pdf', 'IR-M-U-0500.pdf', 'IR-M-U-0555.pdf', 'IR-M-U-0560.pdf', 'IR-M-U-0564.pdf', 'IR-M-U-0573.pdf', 'IR-M-U-0643.pdf', 'IR-M-U-0715.pdf', 'IR-M-U-0735.pdf', 'IR-M-U-0747.pdf', 'IR-M-U-0749.pdf', 'IR-M-U-1004.pdf', 'IR-M-U-1006.pdf', 'IR-M-U-1007.pdf']\n"
     ]
    }
   ],
   "source": [
    "print(files)"
   ]
  },
  {
   "cell_type": "code",
   "execution_count": 6,
   "id": "88c6d322",
   "metadata": {},
   "outputs": [
    {
     "data": {
      "text/plain": [
       "100"
      ]
     },
     "execution_count": 6,
     "metadata": {},
     "output_type": "execute_result"
    }
   ],
   "source": [
    "len(files)"
   ]
  },
  {
   "cell_type": "markdown",
   "id": "f8b0d3ad",
   "metadata": {},
   "source": [
    "## Read the file and export the data to Excel"
   ]
  },
  {
   "cell_type": "code",
   "execution_count": 25,
   "id": "6b1eb71b",
   "metadata": {},
   "outputs": [],
   "source": [
    "table_first_columns = ['Academic Year'\n",
    "                       ,'(All programs\\rof all years)'\n",
    "                       ,'Academic Year'\n",
    "                       ,'Ph.D (Student pursuing doctoral program till 2021-22)'\n",
    "                       ,'Financial Year'\n",
    "                       ,'Financial Year'\n",
    "                       ,'Financial Year'\n",
    "                       ,'Financial Year'\n",
    "                       ,'Financial Year'\n",
    "                       ,'1. Do your institution buildings have Lifts/Ramps?'\n",
    "                       ,'Number of faculty members entered'\n",
    "                      ]"
   ]
  },
  {
   "cell_type": "code",
   "execution_count": 54,
   "id": "83044752",
   "metadata": {},
   "outputs": [],
   "source": [
    "nirf_df = read_pdf(RAW_FILE_DIRECTORY + \"/\" + 'IR-M-C-32855.pdf', pages='all', guess = False)"
   ]
  },
  {
   "cell_type": "code",
   "execution_count": 55,
   "id": "993b21c5",
   "metadata": {},
   "outputs": [
    {
     "data": {
      "text/plain": [
       "11"
      ]
     },
     "execution_count": 55,
     "metadata": {},
     "output_type": "execute_result"
    }
   ],
   "source": [
    "len(nirf_df)"
   ]
  },
  {
   "cell_type": "code",
   "execution_count": 51,
   "id": "176dbdc8",
   "metadata": {},
   "outputs": [
    {
     "data": {
      "text/plain": [
       "('Academic Year',\n",
       " '(All programs\\rof all years)',\n",
       " 'Academic Year',\n",
       " 'Ph.D (Student pursuing doctoral program till 2021-22)',\n",
       " 'Financial Year',\n",
       " 'Financial Year',\n",
       " 'Financial Year',\n",
       " 'Financial Year',\n",
       " 'Financial Year',\n",
       " '1. Do your institution buildings have Lifts/Ramps?',\n",
       " 'Number of faculty members entered')"
      ]
     },
     "execution_count": 51,
     "metadata": {},
     "output_type": "execute_result"
    }
   ],
   "source": [
    "nirf_df[0].columns[0], nirf_df[1].columns[0], nirf_df[2].columns[0], nirf_df[3].columns[0], nirf_df[4].columns[0]\\\n",
    ", nirf_df[5].columns[0], nirf_df[6].columns[0], nirf_df[7].columns[0], nirf_df[8].columns[0], nirf_df[9].columns[0] \\\n",
    ", nirf_df[10].columns[0]"
   ]
  },
  {
   "cell_type": "code",
   "execution_count": 53,
   "id": "611ebbc5",
   "metadata": {},
   "outputs": [
    {
     "name": "stdout",
     "output_type": "stream",
     "text": [
      "Error while processing IR-M-C-32855.pdf.\n",
      "list index out of range\n",
      "Error while processing IR-M-C-37013.pdf.\n",
      "list index out of range\n",
      "Error while processing IR-M-I-1066.pdf.\n",
      "4 columns passed, passed data had 6 columns\n",
      "Error while processing IR-M-I-1074.pdf.\n",
      "4 columns passed, passed data had 6 columns\n",
      "Error while processing IR-M-I-1075.pdf.\n",
      "list index out of range\n",
      "Error while processing IR-M-I-1170.pdf.\n",
      "4 columns passed, passed data had 6 columns\n",
      "Error while processing IR-M-I-1238.pdf.\n",
      "list index out of range\n",
      "Error while processing IR-M-I-1408.pdf.\n",
      "list index out of range\n",
      "Error while processing IR-M-I-1441.pdf.\n",
      "list index out of range\n",
      "Error while processing IR-M-I-1480.pdf.\n",
      "list index out of range\n",
      "Error while processing IR-M-N-4.pdf.\n",
      "list index out of range\n",
      "Error while processing IR-M-S-132.pdf.\n",
      "list index out of range\n",
      "Error while processing IR-M-S-14553.pdf.\n",
      "list index out of range\n",
      "Error while processing IR-M-S-14875.pdf.\n",
      "list index out of range\n",
      "Error while processing IR-M-S-156.pdf.\n",
      "4 columns passed, passed data had 6 columns\n",
      "Error while processing IR-M-S-15911.pdf.\n",
      "list index out of range\n",
      "Error while processing IR-M-S-15962.pdf.\n",
      "4 columns passed, passed data had 6 columns\n",
      "Error while processing IR-M-S-164.pdf.\n",
      "list index out of range\n",
      "Error while processing IR-M-S-17295.pdf.\n",
      "list index out of range\n",
      "Error while processing IR-M-S-419.pdf.\n",
      "list index out of range\n",
      "Error while processing IR-M-S-6.pdf.\n",
      "list index out of range\n",
      "Error while processing IR-M-S-8868.pdf.\n",
      "4 columns passed, passed data had 6 columns\n",
      "Error while processing IR-M-S-8903.pdf.\n",
      "4 columns passed, passed data had 6 columns\n",
      "Error while processing IR-M-S-8904.pdf.\n",
      "list index out of range\n",
      "Error while processing IR-M-S-8948.pdf.\n",
      "list index out of range\n",
      "Error while processing IR-M-S-8972.pdf.\n",
      "list index out of range\n",
      "Error while processing IR-M-S-92.pdf.\n",
      "list index out of range\n",
      "Error while processing IR-M-U-0020.pdf.\n",
      "list index out of range\n",
      "Error while processing IR-M-U-0056.pdf.\n",
      "list index out of range\n",
      "Error while processing IR-M-U-0078.pdf.\n",
      "list index out of range\n",
      "Error while processing IR-M-U-0099.pdf.\n",
      "list index out of range\n",
      "Error while processing IR-M-U-0107.pdf.\n",
      "list index out of range\n",
      "Error while processing IR-M-U-0108.pdf.\n",
      "list index out of range\n",
      "Error while processing IR-M-U-0146.pdf.\n",
      "list index out of range\n",
      "Error while processing IR-M-U-0155.pdf.\n",
      "list index out of range\n",
      "Error while processing IR-M-U-0162.pdf.\n",
      "list index out of range\n",
      "Error while processing IR-M-U-0202.pdf.\n",
      "list index out of range\n",
      "Error while processing IR-M-U-0213.pdf.\n",
      "list index out of range\n",
      "Error while processing IR-M-U-0223.pdf.\n",
      "4 columns passed, passed data had 6 columns\n",
      "Error while processing IR-M-U-0249.pdf.\n",
      "list index out of range\n",
      "Error while processing IR-M-U-0263.pdf.\n",
      "list index out of range\n",
      "Error while processing IR-M-U-0267.pdf.\n",
      "list index out of range\n",
      "Error while processing IR-M-U-0306.pdf.\n",
      "list index out of range\n",
      "Error while processing IR-M-U-0356.pdf.\n",
      "list index out of range\n",
      "Error while processing IR-M-U-0363.pdf.\n",
      "list index out of range\n",
      "Error while processing IR-M-U-0379.pdf.\n",
      "list index out of range\n",
      "Error while processing IR-M-U-0410.pdf.\n",
      "list index out of range\n",
      "Error while processing IR-M-U-0436.pdf.\n",
      "list index out of range\n",
      "Error while processing IR-M-U-0467.pdf.\n",
      "4 columns passed, passed data had 6 columns\n",
      "Error while processing IR-M-U-0496.pdf.\n",
      "list index out of range\n",
      "Error while processing IR-M-U-0497.pdf.\n",
      "list index out of range\n",
      "Error while processing IR-M-U-0498.pdf.\n",
      "list index out of range\n",
      "Error while processing IR-M-U-0500.pdf.\n",
      "list index out of range\n",
      "Error while processing IR-M-U-0555.pdf.\n",
      "list index out of range\n",
      "Error while processing IR-M-U-0564.pdf.\n",
      "list index out of range\n",
      "Error while processing IR-M-U-0573.pdf.\n",
      "list index out of range\n",
      "Error while processing IR-M-U-0643.pdf.\n",
      "4 columns passed, passed data had 7 columns\n",
      "Error while processing IR-M-U-0715.pdf.\n",
      "list index out of range\n",
      "Error while processing IR-M-U-0749.pdf.\n",
      "list index out of range\n",
      "Completed the data extraction.\n"
     ]
    }
   ],
   "source": [
    "for file in files:   \n",
    "    if file.endswith('.pdf'):\n",
    "        try:\n",
    "            nirf_df = read_pdf(RAW_FILE_DIRECTORY + \"/\" + file, pages='all', guess = False)\n",
    "\n",
    "            #print(f\"Extracting the data from the file {file}. The file has {len(nirf_df)} tables.\")\n",
    "\n",
    "            nirf_data = []\n",
    "            table_index = 0\n",
    "\n",
    "            for df in nirf_df:           \n",
    "                if df.columns[0] == table_first_columns[table_index]:\n",
    "                    if table_index != 9 and table_index != 10:\n",
    "                        nirf_data.append(df)                                   \n",
    "                    else:\n",
    "                        data_list = [df.columns.values.tolist()]\n",
    "\n",
    "                        for value in df.values.tolist():\n",
    "                            data_list.append(value)\n",
    "\n",
    "                        data_df = pd.DataFrame(data_list, columns=['Question', 'Answer'])\n",
    "\n",
    "                        nirf_data.append(data_df)\n",
    "\n",
    "                    table_index += 1\n",
    "                else:\n",
    "                    table_index -= 1\n",
    "\n",
    "                    previous_df = nirf_data[table_index]\n",
    "\n",
    "                    columns = previous_df.columns.values.tolist()\n",
    "\n",
    "                    data_list = previous_df.values.tolist()\n",
    "\n",
    "                    data_list.append(df.columns.values.tolist())\n",
    "\n",
    "                    for value in df.values.tolist():\n",
    "                        data_list.append(value)                \n",
    "\n",
    "                    nirf_data[table_index] = pd.DataFrame(data_list, columns=columns)\n",
    "\n",
    "                    table_index += 1\n",
    "\n",
    "            #data[(file.split('-')[3]).split('.')[0]] = nirf_data       \n",
    "\n",
    "            file_name = file.replace(\".pdf\", '.xlsx')\n",
    "\n",
    "            with pd.ExcelWriter(PROCESSED_FILE_DIRECTORY + \"/\" + file_name) as writer:\n",
    "                for index in range(len(nirf_data)):\n",
    "                    nirf_data[index]['Institution'] = (file.split('.')[0])\n",
    "                    nirf_data[index].to_excel(writer, sheet_name=str(index), index=False)\n",
    "        except Exception as ex:\n",
    "            print(f\"Error while processing {file}.\\n{ex}\")\n",
    "            #shutil.move(RAW_FILE_DIRECTORY + \"/\" + file, ERROR_FILE_DIRECTORY + \"/\" + file)\n",
    "            continue\n",
    "\n",
    "print(\"Completed the data extraction.\")"
   ]
  },
  {
   "cell_type": "code",
   "execution_count": null,
   "id": "12e3ea0c",
   "metadata": {},
   "outputs": [],
   "source": []
  }
 ],
 "metadata": {
  "kernelspec": {
   "display_name": "Python 3 (ipykernel)",
   "language": "python",
   "name": "python3"
  },
  "language_info": {
   "codemirror_mode": {
    "name": "ipython",
    "version": 3
   },
   "file_extension": ".py",
   "mimetype": "text/x-python",
   "name": "python",
   "nbconvert_exporter": "python",
   "pygments_lexer": "ipython3",
   "version": "3.12.4"
  }
 },
 "nbformat": 4,
 "nbformat_minor": 5
}
