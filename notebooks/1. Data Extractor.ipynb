{
 "cells": [
  {
   "cell_type": "markdown",
   "id": "c646d75d",
   "metadata": {},
   "source": [
    "# Installation"
   ]
  },
  {
   "cell_type": "code",
   "execution_count": 1,
   "id": "ee9af4bc",
   "metadata": {},
   "outputs": [],
   "source": [
    "# !pip install tabula-py[jpype]"
   ]
  },
  {
   "cell_type": "markdown",
   "id": "376b562a",
   "metadata": {},
   "source": [
    "# Imports"
   ]
  },
  {
   "cell_type": "code",
   "execution_count": 3,
   "id": "c08d58fa",
   "metadata": {},
   "outputs": [],
   "source": [
    "import os\n",
    "import shutil\n",
    "import numpy as np\n",
    "import pandas as pd\n",
    "from tabula import read_pdf"
   ]
  },
  {
   "cell_type": "markdown",
   "id": "f11b8c39",
   "metadata": {},
   "source": [
    "# Constants"
   ]
  },
  {
   "cell_type": "code",
   "execution_count": 4,
   "id": "7c0018bc",
   "metadata": {},
   "outputs": [],
   "source": [
    "RAW_FILE_DIRECTORY = r\"..\\data\\pdf\"\n",
    "\n",
    "PROCESSED_FILE_DIRECTORY = r\"..\\data\\excel\"\n",
    "\n",
    "ERROR_FILE_DIRECTORY = r\"..\\data\\errorpdf\"\n",
    "\n",
    "data = {}"
   ]
  },
  {
   "cell_type": "markdown",
   "id": "53dfafa5",
   "metadata": {},
   "source": [
    "# Data Extraction"
   ]
  },
  {
   "cell_type": "markdown",
   "id": "5d6c267d",
   "metadata": {},
   "source": [
    "## Get Files"
   ]
  },
  {
   "cell_type": "code",
   "execution_count": 5,
   "id": "fea675b9",
   "metadata": {},
   "outputs": [],
   "source": [
    "files = os.listdir(RAW_FILE_DIRECTORY)\n",
    "\n",
    "files = [f for f in files if os.path.isfile(RAW_FILE_DIRECTORY + '/' + f)]"
   ]
  },
  {
   "cell_type": "code",
   "execution_count": 6,
   "id": "6e9b844b",
   "metadata": {},
   "outputs": [
    {
     "name": "stdout",
     "output_type": "stream",
     "text": [
      "['IR-P-C-10250.pdf', 'IR-P-C-10283.pdf', 'IR-P-C-10398.pdf', 'IR-P-C-11091.pdf', 'IR-P-C-18900.pdf', 'IR-P-C-19322.pdf', 'IR-P-C-19611.pdf', 'IR-P-C-19613.pdf', 'IR-P-C-19747.pdf', 'IR-P-C-24007.pdf', 'IR-P-C-24505.pdf', 'IR-P-C-26904.pdf', 'IR-P-C-26907.pdf', 'IR-P-C-30768.pdf', 'IR-P-C-30858.pdf', 'IR-P-C-33635.pdf', 'IR-P-C-33873.pdf', 'IR-P-C-33877.pdf', 'IR-P-C-34531.pdf', 'IR-P-C-35006.pdf', 'IR-P-C-35007.pdf', 'IR-P-C-35430.pdf', 'IR-P-C-39481.pdf', 'IR-P-C-39486.pdf', 'IR-P-C-40080.pdf', 'IR-P-C-40354.pdf', 'IR-P-C-409.pdf', 'IR-P-C-41451.pdf', 'IR-P-C-44200.pdf', 'IR-P-C-45540.pdf', 'IR-P-C-45585.pdf', 'IR-P-C-45757.pdf', 'IR-P-C-46111.pdf', 'IR-P-C-6178.pdf', 'IR-P-C-6594.pdf', 'IR-P-C-7249.pdf', 'IR-P-I-1045.pdf', 'IR-P-I-1072.pdf', 'IR-P-I-1073.pdf', 'IR-P-I-1077.pdf', 'IR-P-I-1243.pdf', 'IR-P-I-1248.pdf', 'IR-P-I-1256.pdf', 'IR-P-I-1276.pdf', 'IR-P-I-1280.pdf', 'IR-P-I-1289.pdf', 'IR-P-I-1335.pdf', 'IR-P-I-1450.pdf', 'IR-P-I-1486.pdf', 'IR-P-N-10.pdf', 'IR-P-N-14.pdf', 'IR-P-N-26.pdf', 'IR-P-S-10906.pdf', 'IR-P-S-58036.pdf', 'IR-P-U-0011.pdf', 'IR-P-U-0019.pdf', 'IR-P-U-0034.pdf', 'IR-P-U-0051.pdf', 'IR-P-U-0078.pdf', 'IR-P-U-0085.pdf', 'IR-P-U-0107.pdf', 'IR-P-U-0135.pdf', 'IR-P-U-0143.pdf', 'IR-P-U-0146.pdf', 'IR-P-U-0162.pdf', 'IR-P-U-0168.pdf', 'IR-P-U-0190.pdf', 'IR-P-U-0202.pdf', 'IR-P-U-0308.pdf', 'IR-P-U-0332.pdf', 'IR-P-U-0372.pdf', 'IR-P-U-0373.pdf', 'IR-P-U-0379.pdf', 'IR-P-U-0380.pdf', 'IR-P-U-0383.pdf', 'IR-P-U-0389.pdf', 'IR-P-U-0391.pdf', 'IR-P-U-0392.pdf', 'IR-P-U-0413.pdf', 'IR-P-U-0427.pdf', 'IR-P-U-0436.pdf', 'IR-P-U-0443.pdf', 'IR-P-U-0473.pdf', 'IR-P-U-0491.pdf', 'IR-P-U-0497.pdf', 'IR-P-U-0498.pdf', 'IR-P-U-0502.pdf', 'IR-P-U-0513.pdf', 'IR-P-U-0519.pdf', 'IR-P-U-0536.pdf', 'IR-P-U-0541.pdf', 'IR-P-U-0562.pdf', 'IR-P-U-0575.pdf', 'IR-P-U-0643.pdf', 'IR-P-U-0724.pdf', 'IR-P-U-0747.pdf', 'IR-P-U-0763.pdf', 'IR-P-U-0811.pdf', 'IR-P-U-0853.pdf', 'IR-P-U-0938.pdf']\n"
     ]
    }
   ],
   "source": [
    "print(files)"
   ]
  },
  {
   "cell_type": "markdown",
   "id": "f8b0d3ad",
   "metadata": {},
   "source": [
    "## Read the file and export the data to Excel"
   ]
  },
  {
   "cell_type": "code",
   "execution_count": 7,
   "id": "6b1eb71b",
   "metadata": {},
   "outputs": [],
   "source": [
    "table_first_columns = ['Academic Year', '(All programs\\rof all years)', 'Academic Year', \n",
    "                       'Academic Year', 'Ph.D (Student pursuing doctoral program till 2021-22)', \n",
    "                       'Financial Year', 'Financial Year', 'Financial Year', 'Financial Year', \n",
    "                       '1. Do your institution buildings have Lifts/Ramps?', 'Number of faculty members entered']"
   ]
  },
  {
   "cell_type": "code",
   "execution_count": 8,
   "id": "611ebbc5",
   "metadata": {},
   "outputs": [
    {
     "name": "stdout",
     "output_type": "stream",
     "text": [
      "Error while processing IR-P-C-10398.pdf.\n",
      "8 columns passed, passed data had 10 columns\n",
      "Error while processing IR-P-C-19747.pdf.\n",
      "8 columns passed, passed data had 10 columns\n",
      "Error while processing IR-P-C-26904.pdf.\n",
      "8 columns passed, passed data had 11 columns\n",
      "Error while processing IR-P-C-26907.pdf.\n",
      "8 columns passed, passed data had 14 columns\n",
      "Error while processing IR-P-C-35006.pdf.\n",
      "10 columns passed, passed data had 12 columns\n",
      "Error while processing IR-P-C-35007.pdf.\n",
      "8 columns passed, passed data had 10 columns\n",
      "Error while processing IR-P-C-39481.pdf.\n",
      "10 columns passed, passed data had 12 columns\n",
      "Error while processing IR-P-C-40354.pdf.\n",
      "8 columns passed, passed data had 10 columns\n",
      "Error while processing IR-P-C-45540.pdf.\n",
      "8 columns passed, passed data had 10 columns\n",
      "Error while processing IR-P-C-7249.pdf.\n",
      "8 columns passed, passed data had 10 columns\n",
      "Error while processing IR-P-I-1450.pdf.\n",
      "8 columns passed, passed data had 10 columns\n",
      "Error while processing IR-P-I-1486.pdf.\n",
      "10 columns passed, passed data had 12 columns\n",
      "Error while processing IR-P-U-0168.pdf.\n",
      "10 columns passed, passed data had 12 columns\n",
      "Error while processing IR-P-U-0308.pdf.\n",
      "4 columns passed, passed data had 7 columns\n",
      "Error while processing IR-P-U-0373.pdf.\n",
      "8 columns passed, passed data had 10 columns\n",
      "Error while processing IR-P-U-0436.pdf.\n",
      "8 columns passed, passed data had 10 columns\n",
      "Error while processing IR-P-U-0443.pdf.\n",
      "10 columns passed, passed data had 12 columns\n",
      "Error while processing IR-P-U-0491.pdf.\n",
      "8 columns passed, passed data had 10 columns\n",
      "Error while processing IR-P-U-0519.pdf.\n",
      "8 columns passed, passed data had 10 columns\n",
      "Error while processing IR-P-U-0763.pdf.\n",
      "8 columns passed, passed data had 10 columns\n",
      "Successfully completed the data extraction.\n"
     ]
    }
   ],
   "source": [
    "for file in files:   \n",
    "    if file.endswith('.pdf'):\n",
    "        try:\n",
    "            nirf_df = read_pdf(RAW_FILE_DIRECTORY + \"/\" + file, pages='all', guess = False)\n",
    "\n",
    "            #print(f\"Extracting the data from the file {file}. The file has {len(nirf_df)} tables.\")\n",
    "\n",
    "            nirf_data = []\n",
    "            table_index = 0\n",
    "\n",
    "            for df in nirf_df:           \n",
    "                if df.columns[0] == table_first_columns[table_index]:\n",
    "                    if table_index != 9 and table_index != 10:\n",
    "                        nirf_data.append(df)                                   \n",
    "                    else:\n",
    "                        data_list = [df.columns.values.tolist()]\n",
    "\n",
    "                        for value in df.values.tolist():\n",
    "                            data_list.append(value)\n",
    "\n",
    "                        data_df = pd.DataFrame(data_list, columns=['Question', 'Answer'])\n",
    "\n",
    "                        nirf_data.append(data_df)\n",
    "\n",
    "                    table_index += 1\n",
    "                else:\n",
    "                    table_index -= 1\n",
    "\n",
    "                    previous_df = nirf_data[table_index]\n",
    "\n",
    "                    columns = previous_df.columns.values.tolist()\n",
    "\n",
    "                    data_list = previous_df.values.tolist()\n",
    "\n",
    "                    data_list.append(df.columns.values.tolist())\n",
    "\n",
    "                    for value in df.values.tolist():\n",
    "                        data_list.append(value)                \n",
    "\n",
    "                    nirf_data[table_index] = pd.DataFrame(data_list, columns=columns)\n",
    "\n",
    "                    table_index += 1\n",
    "\n",
    "            data[(file.split('-')[3]).split('.')[0]] = nirf_data       \n",
    "\n",
    "            file_name = file.replace(\".pdf\", '.xlsx')\n",
    "\n",
    "            with pd.ExcelWriter(PROCESSED_FILE_DIRECTORY + \"/\" + file_name) as writer:\n",
    "                for index in range(len(nirf_data)):\n",
    "                    nirf_data[index]['Institution'] = (file.split('.')[0])\n",
    "                    nirf_data[index].to_excel(writer, sheet_name=str(index), index=False)\n",
    "        except Exception as ex:\n",
    "            print(f\"Error while processing {file}.\\n{ex}\")\n",
    "            shutil.move(RAW_FILE_DIRECTORY + \"/\" + file, ERROR_FILE_DIRECTORY + \"/\" + file)\n",
    "            continue\n",
    "\n",
    "print(\"Successfully completed the data extraction.\")"
   ]
  },
  {
   "cell_type": "code",
   "execution_count": 1,
   "id": "30a4ff1a",
   "metadata": {},
   "outputs": [
    {
     "data": {
      "text/plain": [
       "'6178'"
      ]
     },
     "execution_count": 1,
     "metadata": {},
     "output_type": "execute_result"
    }
   ],
   "source": [
    "#(\"IR-P-C-6178.pdf\".split('-')[3]).split('.')[0]"
   ]
  },
  {
   "cell_type": "code",
   "execution_count": 2,
   "id": "ff831a77",
   "metadata": {},
   "outputs": [
    {
     "data": {
      "text/plain": [
       "'0573'"
      ]
     },
     "execution_count": 2,
     "metadata": {},
     "output_type": "execute_result"
    }
   ],
   "source": [
    "#(\"6.IR-E-U-0573.pdf\".split('-')[3]).split('.')[0]"
   ]
  },
  {
   "cell_type": "code",
   "execution_count": null,
   "id": "4d3a4634",
   "metadata": {},
   "outputs": [],
   "source": []
  }
 ],
 "metadata": {
  "kernelspec": {
   "display_name": "Python 3 (ipykernel)",
   "language": "python",
   "name": "python3"
  },
  "language_info": {
   "codemirror_mode": {
    "name": "ipython",
    "version": 3
   },
   "file_extension": ".py",
   "mimetype": "text/x-python",
   "name": "python",
   "nbconvert_exporter": "python",
   "pygments_lexer": "ipython3",
   "version": "3.12.4"
  }
 },
 "nbformat": 4,
 "nbformat_minor": 5
}
