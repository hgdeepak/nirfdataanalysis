{
 "cells": [
  {
   "cell_type": "markdown",
   "id": "c646d75d",
   "metadata": {},
   "source": [
    "# Installation"
   ]
  },
  {
   "cell_type": "code",
   "execution_count": null,
   "id": "ee9af4bc",
   "metadata": {},
   "outputs": [],
   "source": [
    "#!pip install tabula-py[jpype]"
   ]
  },
  {
   "cell_type": "markdown",
   "id": "376b562a",
   "metadata": {},
   "source": [
    "# Imports"
   ]
  },
  {
   "cell_type": "code",
   "execution_count": 12,
   "id": "c08d58fa",
   "metadata": {},
   "outputs": [],
   "source": [
    "import os\n",
    "import shutil\n",
    "import numpy as np\n",
    "import pandas as pd\n",
    "from tabula import read_pdf"
   ]
  },
  {
   "cell_type": "markdown",
   "id": "f11b8c39",
   "metadata": {},
   "source": [
    "# Constants"
   ]
  },
  {
   "cell_type": "code",
   "execution_count": 13,
   "id": "7c0018bc",
   "metadata": {},
   "outputs": [],
   "source": [
    "RAW_FILE_DIRECTORY = r\"..\\data\\pdf\"\n",
    "\n",
    "PROCESSED_FILE_DIRECTORY = r\"..\\data\\excel\"\n",
    "\n",
    "ERROR_FILE_DIRECTORY = r\"..\\data\\errorpdf\"\n",
    "\n",
    "data = {}"
   ]
  },
  {
   "cell_type": "markdown",
   "id": "53dfafa5",
   "metadata": {},
   "source": [
    "# Data Extraction"
   ]
  },
  {
   "cell_type": "markdown",
   "id": "5d6c267d",
   "metadata": {},
   "source": [
    "## Get Files"
   ]
  },
  {
   "cell_type": "code",
   "execution_count": 14,
   "id": "fea675b9",
   "metadata": {},
   "outputs": [],
   "source": [
    "files = os.listdir(RAW_FILE_DIRECTORY)\n",
    "\n",
    "files = [f for f in files if os.path.isfile(RAW_FILE_DIRECTORY + '/' + f)]"
   ]
  },
  {
   "cell_type": "code",
   "execution_count": 15,
   "id": "6e9b844b",
   "metadata": {},
   "outputs": [
    {
     "name": "stdout",
     "output_type": "stream",
     "text": [
      "['1 IR-O-U-0456.pdf', '10 IR-O-U-0109.pdf', '100 IR-O-U-0470.pdf', '11 IR-O-U-0500.pdf', '12 IR-O-U-0013.pdf', '13 IR-O-U-0108.pdf', '14 IR-O-U-0234.pdf', '15 IR-O-U-0120.pdf', '16 IR-O-U-0496.pdf', '17 IR-O-U-0575.pdf', '18 IR-O-U-0436.pdf', '19 IR-O-U-0490.pdf', '2 IR-O-U-0220.pdf', '20 IR-O-U-0439.pdf', '21 IR-O-U-0473.pdf', '22 IR-O-I-1441.pdf', '23 IR-O-U-0391.pdf', '24 IR-O-U-0363.pdf', '25 IR-O-U-0042.pdf', '26 IR-O-U-0570.pdf', '27 IR-O-U-0304.pdf', '28 IR-O-U-0356.pdf', '29 IR-O-U-0139.pdf', '3 IR-O-U-0306.pdf', '30 IR-O-U-0701.pdf', '31 IR-O-U-0467.pdf', '32 IR-O-U-0747.pdf', '33 IR-O-U-0273.pdf', '34 IR-O-U-0357.pdf', '35 IR-O-U-0205.pdf', '36 IR-O-U-0222.pdf', '37 IR-O-U-0323.pdf', '38 IR-O-U-0260.pdf', '39 IR-O-U-0368.pdf', '4 IR-O-I-1074.pdf', '40 IR-O-U-0020.pdf', '41 IR-O-U-0006.pdf', '42 IR-O-U-0305.pdf', '43 IR-O-I-1480.pdf', '44 IR-O-U-0447.pdf', '45 IR-O-U-0379.pdf', '46 IR-O-U-0237.pdf', '47 IR-O-U-0476.pdf', '48 IR-O-U-0378.pdf', '49 IR-O-U-0497.pdf', '5 IR-O-I-1075.pdf', '50 IR-O-U-0458.pdf', '51 IR-O-U-0253.pdf', '52 IR-O-U-0329.pdf', '53 IR-O-U-0025.pdf', '54 IR-O-U-0263.pdf', '55 IR-O-U-0448.pdf', '56 IR-O-U-0308.pdf', '57 IR-O-U-0052.pdf', '58 IR-O-U-0498.pdf', '59 IR-O-U-0564.pdf', '6 IR-O-U-0573.pdf', '60 IR-O-U-0078.pdf', '61 IR-O-U-0572.pdf', '62 IR-O-U-0107.pdf', '63 IR-O-I-1110.pdf', '64a IR-O-U-0377.pdf', '64b IR-O-I-1357.pdf', '66 IR-O-U-0098.pdf', '67 IR-O-U-0262.pdf', '68 IR-O-U-0395.pdf', '69 IR-O-U-0196.pdf', '7 IR-O-N-15.pdf', '70 IR-O-U-0027.pdf', '71 IR-O-U-0295.pdf', '72 IR-O-U-0184.pdf', '73 IR-O-U-0064.pdf', '74 IR-O-U-0691.pdf', '75 IR-O-U-0574.pdf', '76 IR-O-U-0435.pdf', '77 IR-O-U-0334.pdf', '78 IR-O-U-0272.pdf', '79 IR-O-U-0555.pdf', '8 IR-O-U-0560.pdf', '80 IR-O-U-0381.pdf', '81 IR-O-C-16604.pdf', '82 IR-O-U-0410.pdf', '83 IR-O-U-0689.pdf', '84 IR-O-N-10.pdf', '85 IR-O-U-0474.pdf', '86 IR-O-U-0235.pdf', '87 IR-O-U-0195.pdf', '88 IR-O-U-0523.pdf', '89 IR-O-U-0190.pdf', '9 IR-O-U-0053.pdf', '90 IR-O-U-0217.pdf', '91 IR-O-U-0446.pdf', '92 IR-O-U-0055.pdf', '93 IR-O-U-0577.pdf', '94 IR-O-U-0136.pdf', '95 IR-O-U-0642.pdf', '96 IR-O-I-1486.pdf', '97 IR-O-U-0003.pdf', '98 IR-O-U-0331.pdf', '99 IR-O-U-0686.pdf']\n"
     ]
    }
   ],
   "source": [
    "print(files)"
   ]
  },
  {
   "cell_type": "code",
   "execution_count": 16,
   "id": "88c6d322",
   "metadata": {},
   "outputs": [
    {
     "data": {
      "text/plain": [
       "100"
      ]
     },
     "execution_count": 16,
     "metadata": {},
     "output_type": "execute_result"
    }
   ],
   "source": [
    "len(files)"
   ]
  },
  {
   "cell_type": "code",
   "execution_count": 17,
   "id": "2d56cfaf-548a-427e-b8cc-35e2d8ac9ae2",
   "metadata": {},
   "outputs": [],
   "source": [
    "nirf_df = read_pdf(RAW_FILE_DIRECTORY + \"/\" + files[0], pages='all', guess = False)"
   ]
  },
  {
   "cell_type": "code",
   "execution_count": 18,
   "id": "7fc589d3-9dc8-4e25-a67d-054628be4b74",
   "metadata": {},
   "outputs": [
    {
     "data": {
      "text/plain": [
       "17"
      ]
     },
     "execution_count": 18,
     "metadata": {},
     "output_type": "execute_result"
    }
   ],
   "source": [
    "len(nirf_df)"
   ]
  },
  {
   "cell_type": "markdown",
   "id": "f8b0d3ad",
   "metadata": {},
   "source": [
    "## Read the file and export the data to Excel"
   ]
  },
  {
   "cell_type": "code",
   "execution_count": 19,
   "id": "6b1eb71b",
   "metadata": {},
   "outputs": [],
   "source": [
    "table_first_columns = ['Academic Year',\n",
    "                         '(All programs\\rof all years)',\n",
    "                         'Academic Year',\n",
    "                         'Academic Year',\n",
    "                         'Academic Year',\n",
    "                         'Academic Year',\n",
    "                         'Academic Year',\n",
    "                         'Ph.D (Student pursuing doctoral program till 2022-23)',\n",
    "                         'Financial Year',\n",
    "                         'Financial Year',\n",
    "                         'Financial Year',\n",
    "                         #'Total no. of Funding Agencies',\n",
    "                         'Financial Year',\n",
    "                         'Financial Year',\n",
    "                         '1. Do your institution buildings have Lifts/Ramps?',\n",
    "                         '1. Has your institution implemented multiple entry/exit in your institution?'\n",
    "                         'Number of faculty members entered'\n",
    "                      ]"
   ]
  },
  {
   "cell_type": "code",
   "execution_count": 20,
   "id": "10ebab71-db3b-4a5d-91b3-764996b5ec01",
   "metadata": {},
   "outputs": [
    {
     "data": {
      "text/plain": [
       "'\\nfor file in files:   \\n    if file.endswith(\\'.pdf\\'):\\n        try:\\n            nirf_df = read_pdf(RAW_FILE_DIRECTORY + \"/\" + file, pages=\\'all\\', guess = False)\\n\\n            for df in nirf_df:\\n                print(df.columns[0])\\n        except:\\n            continue\\n'"
      ]
     },
     "execution_count": 20,
     "metadata": {},
     "output_type": "execute_result"
    }
   ],
   "source": [
    "'''\n",
    "for file in files:   \n",
    "    if file.endswith('.pdf'):\n",
    "        try:\n",
    "            nirf_df = read_pdf(RAW_FILE_DIRECTORY + \"/\" + file, pages='all', guess = False)\n",
    "\n",
    "            for df in nirf_df:\n",
    "                print(df.columns[0])\n",
    "        except:\n",
    "            continue\n",
    "'''"
   ]
  },
  {
   "cell_type": "code",
   "execution_count": 21,
   "id": "611ebbc5",
   "metadata": {},
   "outputs": [
    {
     "name": "stdout",
     "output_type": "stream",
     "text": [
      "Error while processing 11 IR-O-U-0500.pdf: 2 columns passed, passed data had 7 columns\n",
      "Error while processing 14 IR-O-U-0234.pdf: 8 columns passed, passed data had 10 columns\n",
      "Error while processing 16 IR-O-U-0496.pdf: 8 columns passed, passed data had 10 columns\n",
      "Error while processing 20 IR-O-U-0439.pdf: 10 columns passed, passed data had 13 columns\n",
      "Error while processing 24 IR-O-U-0363.pdf: 10 columns passed, passed data had 11 columns\n",
      "Error while processing 28 IR-O-U-0356.pdf: 8 columns passed, passed data had 10 columns\n",
      "Error while processing 31 IR-O-U-0467.pdf: 10 columns passed, passed data had 13 columns\n",
      "Error while processing 34 IR-O-U-0357.pdf: 10 columns passed, passed data had 13 columns\n",
      "Error while processing 35 IR-O-U-0205.pdf: 10 columns passed, passed data had 13 columns\n",
      "Error while processing 36 IR-O-U-0222.pdf: 10 columns passed, passed data had 11 columns\n",
      "Error while processing 41 IR-O-U-0006.pdf: 10 columns passed, passed data had 13 columns\n",
      "Error while processing 45 IR-O-U-0379.pdf: 8 columns passed, passed data had 10 columns\n",
      "Error while processing 47 IR-O-U-0476.pdf: 2 columns passed, passed data had 4 columns\n",
      "Error while processing 49 IR-O-U-0497.pdf: 8 columns passed, passed data had 10 columns\n",
      "Error while processing 57 IR-O-U-0052.pdf: 10 columns passed, passed data had 12 columns\n",
      "Error while processing 58 IR-O-U-0498.pdf: 10 columns passed, passed data had 12 columns\n",
      "Error while processing 60 IR-O-U-0078.pdf: 8 columns passed, passed data had 10 columns\n",
      "Error while processing 63 IR-O-I-1110.pdf: 10 columns passed, passed data had 13 columns\n",
      "Error while processing 7 IR-O-N-15.pdf: 10 columns passed, passed data had 13 columns\n",
      "Error while processing 74 IR-O-U-0691.pdf: 8 columns passed, passed data had 10 columns\n",
      "Error while processing 83 IR-O-U-0689.pdf: 10 columns passed, passed data had 13 columns\n",
      "Error while processing 86 IR-O-U-0235.pdf: 10 columns passed, passed data had 13 columns\n",
      "Error while processing 87 IR-O-U-0195.pdf: 10 columns passed, passed data had 13 columns\n",
      "Error while processing 90 IR-O-U-0217.pdf: 10 columns passed, passed data had 11 columns\n",
      "Error while processing 96 IR-O-I-1486.pdf: 10 columns passed, passed data had 12 columns\n",
      "Error while processing 98 IR-O-U-0331.pdf: 10 columns passed, passed data had 13 columns\n",
      "Error while processing 99 IR-O-U-0686.pdf: 2 columns passed, passed data had 4 columns\n",
      "Completed the data extraction.\n"
     ]
    }
   ],
   "source": [
    "for file in files:   \n",
    "    if file.endswith('.pdf'):\n",
    "        try:\n",
    "            nirf_df = read_pdf(RAW_FILE_DIRECTORY + \"/\" + file, pages='all', guess = False)\n",
    "\n",
    "            #print(f\"Extracting the data from the file {file}. The file has {len(nirf_df)} tables.\")\n",
    "\n",
    "            nirf_data = []\n",
    "            table_index = 0\n",
    "\n",
    "            for df in nirf_df:           \n",
    "                if df.columns[0] == table_first_columns[table_index]:\n",
    "                    if table_index != 13 and table_index != 14 and table_index != 15:\n",
    "                        nirf_data.append(df)                                   \n",
    "                    else:\n",
    "                        data_list = [df.columns.values.tolist()]\n",
    "\n",
    "                        for value in df.values.tolist():\n",
    "                            data_list.append(value)\n",
    "\n",
    "                        data_df = pd.DataFrame(data_list, columns=['Question', 'Answer'])\n",
    "\n",
    "                        nirf_data.append(data_df)\n",
    "\n",
    "                    table_index += 1\n",
    "                else:\n",
    "                    table_index -= 1\n",
    "\n",
    "                    previous_df = nirf_data[table_index]\n",
    "\n",
    "                    columns = previous_df.columns.values.tolist()\n",
    "\n",
    "                    data_list = previous_df.values.tolist()\n",
    "\n",
    "                    data_list.append(df.columns.values.tolist())\n",
    "\n",
    "                    for value in df.values.tolist():\n",
    "                        data_list.append(value)                \n",
    "\n",
    "                    nirf_data[table_index] = pd.DataFrame(data_list, columns=columns)\n",
    "\n",
    "                    table_index += 1\n",
    "\n",
    "            #data[(file.split('-')[3]).split('.')[0]] = nirf_data       \n",
    "\n",
    "            file_name = file.replace(\".pdf\", '.xlsx')\n",
    "\n",
    "            with pd.ExcelWriter(PROCESSED_FILE_DIRECTORY + \"/\" + file_name) as writer:\n",
    "                for index in range(len(nirf_data)):\n",
    "                    nirf_data[index]['Institution'] = (file.split('.')[0])\n",
    "                    nirf_data[index].to_excel(writer, sheet_name=str(index), index=False)\n",
    "        except Exception as ex:\n",
    "            print(f\"Error while processing {file}: {ex}\")\n",
    "            #shutil.move(RAW_FILE_DIRECTORY + \"/\" + file, ERROR_FILE_DIRECTORY + \"/\" + file)\n",
    "            continue\n",
    "\n",
    "print(\"Completed the data extraction.\")"
   ]
  },
  {
   "cell_type": "code",
   "execution_count": null,
   "id": "12e3ea0c",
   "metadata": {},
   "outputs": [],
   "source": []
  }
 ],
 "metadata": {
  "kernelspec": {
   "display_name": "Python 3 (ipykernel)",
   "language": "python",
   "name": "python3"
  },
  "language_info": {
   "codemirror_mode": {
    "name": "ipython",
    "version": 3
   },
   "file_extension": ".py",
   "mimetype": "text/x-python",
   "name": "python",
   "nbconvert_exporter": "python",
   "pygments_lexer": "ipython3",
   "version": "3.12.4"
  }
 },
 "nbformat": 4,
 "nbformat_minor": 5
}
