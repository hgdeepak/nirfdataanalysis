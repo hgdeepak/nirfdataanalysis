{
 "cells": [
  {
   "cell_type": "code",
   "execution_count": 1,
   "id": "b24a0714",
   "metadata": {},
   "outputs": [],
   "source": [
    "import os\n",
    "import numpy as np\n",
    "import pandas as pd\n",
    "import matplotlib.pyplot as plt\n",
    "import seaborn as sns\n",
    "from tabula import read_pdf"
   ]
  },
  {
   "cell_type": "code",
   "execution_count": 3,
   "id": "facfe98e",
   "metadata": {},
   "outputs": [],
   "source": [
    "nirf_df = read_pdf(\"../data/pdf/1.IR-E-U-0456.pdf\", pages='all', guess = False)"
   ]
  },
  {
   "cell_type": "code",
   "execution_count": 4,
   "id": "6f7ed31c",
   "metadata": {},
   "outputs": [
    {
     "data": {
      "text/plain": [
       "13"
      ]
     },
     "execution_count": 4,
     "metadata": {},
     "output_type": "execute_result"
    }
   ],
   "source": [
    "len(nirf_df)"
   ]
  },
  {
   "cell_type": "markdown",
   "id": "20eb1b41",
   "metadata": {},
   "source": [
    "# Table 0"
   ]
  },
  {
   "cell_type": "code",
   "execution_count": 5,
   "id": "5b42d2f8",
   "metadata": {},
   "outputs": [],
   "source": [
    "table0_df = nirf_df[0]"
   ]
  },
  {
   "cell_type": "code",
   "execution_count": 6,
   "id": "2f687e57",
   "metadata": {},
   "outputs": [
    {
     "data": {
      "text/html": [
       "<div>\n",
       "<style scoped>\n",
       "    .dataframe tbody tr th:only-of-type {\n",
       "        vertical-align: middle;\n",
       "    }\n",
       "\n",
       "    .dataframe tbody tr th {\n",
       "        vertical-align: top;\n",
       "    }\n",
       "\n",
       "    .dataframe thead th {\n",
       "        text-align: right;\n",
       "    }\n",
       "</style>\n",
       "<table border=\"1\" class=\"dataframe\">\n",
       "  <thead>\n",
       "    <tr style=\"text-align: right;\">\n",
       "      <th></th>\n",
       "      <th>Academic Year</th>\n",
       "      <th>2021-22</th>\n",
       "      <th>2020-21</th>\n",
       "      <th>2019-20</th>\n",
       "      <th>2018-19</th>\n",
       "      <th>2017-18</th>\n",
       "      <th>2016-17</th>\n",
       "    </tr>\n",
       "  </thead>\n",
       "  <tbody>\n",
       "    <tr>\n",
       "      <th>0</th>\n",
       "      <td>UG [4 Years Program(s)]</td>\n",
       "      <td>877</td>\n",
       "      <td>877</td>\n",
       "      <td>762</td>\n",
       "      <td>488</td>\n",
       "      <td>-</td>\n",
       "      <td>-</td>\n",
       "    </tr>\n",
       "    <tr>\n",
       "      <th>1</th>\n",
       "      <td>UG [5 Years Program(s)]</td>\n",
       "      <td>177</td>\n",
       "      <td>177</td>\n",
       "      <td>157</td>\n",
       "      <td>358</td>\n",
       "      <td>372</td>\n",
       "      <td>-</td>\n",
       "    </tr>\n",
       "    <tr>\n",
       "      <th>2</th>\n",
       "      <td>PG [2 Year Program(s)]</td>\n",
       "      <td>511</td>\n",
       "      <td>510</td>\n",
       "      <td>-</td>\n",
       "      <td>-</td>\n",
       "      <td>-</td>\n",
       "      <td>-</td>\n",
       "    </tr>\n",
       "    <tr>\n",
       "      <th>3</th>\n",
       "      <td>PG [3 Year Program(s)]</td>\n",
       "      <td>245</td>\n",
       "      <td>245</td>\n",
       "      <td>245</td>\n",
       "      <td>-</td>\n",
       "      <td>-</td>\n",
       "      <td>-</td>\n",
       "    </tr>\n",
       "  </tbody>\n",
       "</table>\n",
       "</div>"
      ],
      "text/plain": [
       "             Academic Year  2021-22  2020-21 2019-20 2018-19 2017-18 2016-17\n",
       "0  UG [4 Years Program(s)]      877      877     762     488       -       -\n",
       "1  UG [5 Years Program(s)]      177      177     157     358     372       -\n",
       "2   PG [2 Year Program(s)]      511      510       -       -       -       -\n",
       "3   PG [3 Year Program(s)]      245      245     245       -       -       -"
      ]
     },
     "execution_count": 6,
     "metadata": {},
     "output_type": "execute_result"
    }
   ],
   "source": [
    "table0_df.head()"
   ]
  },
  {
   "cell_type": "markdown",
   "id": "fd814045",
   "metadata": {},
   "source": [
    "# Table 1"
   ]
  },
  {
   "cell_type": "code",
   "execution_count": 7,
   "id": "8498bd62",
   "metadata": {},
   "outputs": [],
   "source": [
    "table1_df = nirf_df[1]"
   ]
  },
  {
   "cell_type": "code",
   "execution_count": 8,
   "id": "a327dc67",
   "metadata": {},
   "outputs": [
    {
     "data": {
      "text/html": [
       "<div>\n",
       "<style scoped>\n",
       "    .dataframe tbody tr th:only-of-type {\n",
       "        vertical-align: middle;\n",
       "    }\n",
       "\n",
       "    .dataframe tbody tr th {\n",
       "        vertical-align: top;\n",
       "    }\n",
       "\n",
       "    .dataframe thead th {\n",
       "        text-align: right;\n",
       "    }\n",
       "</style>\n",
       "<table border=\"1\" class=\"dataframe\">\n",
       "  <thead>\n",
       "    <tr style=\"text-align: right;\">\n",
       "      <th></th>\n",
       "      <th>(All programs\\rof all years)</th>\n",
       "      <th>No. of Male\\rStudents</th>\n",
       "      <th>No. of Female\\rStudents</th>\n",
       "      <th>Total Students</th>\n",
       "      <th>Within State\\r(Including male\\r&amp; female)</th>\n",
       "      <th>Outside State\\r(Including male\\r&amp; female)</th>\n",
       "      <th>Outside\\rCountry\\r(Including male\\r&amp; female)</th>\n",
       "      <th>Economically\\rBackward\\r(Including male\\r&amp; female)</th>\n",
       "      <th>Socially\\rChallenged\\r(SC+ST+OBC\\rIncluding male\\r&amp; female)</th>\n",
       "      <th>No. of students\\rreceiving full\\rtuition fee\\rreimbursement\\rfrom the State\\rand Central\\rGovernment</th>\n",
       "      <th>No. of students\\rreceiving full\\rtuition fee\\rreimbursement\\rfrom Institution\\rFunds</th>\n",
       "      <th>No. of students\\rreceiving full\\rtuition fee\\rreimbursement\\rfrom the Private\\rBodies</th>\n",
       "      <th>No. of students\\rwho are not\\rreceiving full\\rtuition fee\\rreimbursement</th>\n",
       "    </tr>\n",
       "  </thead>\n",
       "  <tbody>\n",
       "    <tr>\n",
       "      <th>0</th>\n",
       "      <td>UG [4 Years\\rProgram(s)]</td>\n",
       "      <td>2489</td>\n",
       "      <td>583</td>\n",
       "      <td>3072</td>\n",
       "      <td>526</td>\n",
       "      <td>2544</td>\n",
       "      <td>2</td>\n",
       "      <td>355</td>\n",
       "      <td>1619</td>\n",
       "      <td>173</td>\n",
       "      <td>1079</td>\n",
       "      <td>344</td>\n",
       "      <td>378</td>\n",
       "    </tr>\n",
       "    <tr>\n",
       "      <th>1</th>\n",
       "      <td>UG [5 Years\\rProgram(s)]</td>\n",
       "      <td>1359</td>\n",
       "      <td>291</td>\n",
       "      <td>1650</td>\n",
       "      <td>349</td>\n",
       "      <td>1301</td>\n",
       "      <td>0</td>\n",
       "      <td>178</td>\n",
       "      <td>778</td>\n",
       "      <td>40</td>\n",
       "      <td>703</td>\n",
       "      <td>86</td>\n",
       "      <td>127</td>\n",
       "    </tr>\n",
       "    <tr>\n",
       "      <th>2</th>\n",
       "      <td>PG [2 Year\\rProgram(s)]</td>\n",
       "      <td>863</td>\n",
       "      <td>157</td>\n",
       "      <td>1020</td>\n",
       "      <td>76</td>\n",
       "      <td>925</td>\n",
       "      <td>19</td>\n",
       "      <td>276</td>\n",
       "      <td>530</td>\n",
       "      <td>0</td>\n",
       "      <td>714</td>\n",
       "      <td>81</td>\n",
       "      <td>11</td>\n",
       "    </tr>\n",
       "    <tr>\n",
       "      <th>3</th>\n",
       "      <td>PG [3 Year\\rProgram(s)]</td>\n",
       "      <td>753</td>\n",
       "      <td>148</td>\n",
       "      <td>901</td>\n",
       "      <td>167</td>\n",
       "      <td>734</td>\n",
       "      <td>0</td>\n",
       "      <td>327</td>\n",
       "      <td>332</td>\n",
       "      <td>0</td>\n",
       "      <td>390</td>\n",
       "      <td>192</td>\n",
       "      <td>77</td>\n",
       "    </tr>\n",
       "  </tbody>\n",
       "</table>\n",
       "</div>"
      ],
      "text/plain": [
       "  (All programs\\rof all years)  No. of Male\\rStudents  \\\n",
       "0     UG [4 Years\\rProgram(s)]                   2489   \n",
       "1     UG [5 Years\\rProgram(s)]                   1359   \n",
       "2      PG [2 Year\\rProgram(s)]                    863   \n",
       "3      PG [3 Year\\rProgram(s)]                    753   \n",
       "\n",
       "   No. of Female\\rStudents  Total Students  \\\n",
       "0                      583            3072   \n",
       "1                      291            1650   \n",
       "2                      157            1020   \n",
       "3                      148             901   \n",
       "\n",
       "   Within State\\r(Including male\\r& female)  \\\n",
       "0                                       526   \n",
       "1                                       349   \n",
       "2                                        76   \n",
       "3                                       167   \n",
       "\n",
       "   Outside State\\r(Including male\\r& female)  \\\n",
       "0                                       2544   \n",
       "1                                       1301   \n",
       "2                                        925   \n",
       "3                                        734   \n",
       "\n",
       "   Outside\\rCountry\\r(Including male\\r& female)  \\\n",
       "0                                             2   \n",
       "1                                             0   \n",
       "2                                            19   \n",
       "3                                             0   \n",
       "\n",
       "   Economically\\rBackward\\r(Including male\\r& female)  \\\n",
       "0                                                355    \n",
       "1                                                178    \n",
       "2                                                276    \n",
       "3                                                327    \n",
       "\n",
       "   Socially\\rChallenged\\r(SC+ST+OBC\\rIncluding male\\r& female)  \\\n",
       "0                                               1619             \n",
       "1                                                778             \n",
       "2                                                530             \n",
       "3                                                332             \n",
       "\n",
       "   No. of students\\rreceiving full\\rtuition fee\\rreimbursement\\rfrom the State\\rand Central\\rGovernment  \\\n",
       "0                                                173                                                      \n",
       "1                                                 40                                                      \n",
       "2                                                  0                                                      \n",
       "3                                                  0                                                      \n",
       "\n",
       "   No. of students\\rreceiving full\\rtuition fee\\rreimbursement\\rfrom Institution\\rFunds  \\\n",
       "0                                               1079                                      \n",
       "1                                                703                                      \n",
       "2                                                714                                      \n",
       "3                                                390                                      \n",
       "\n",
       "   No. of students\\rreceiving full\\rtuition fee\\rreimbursement\\rfrom the Private\\rBodies  \\\n",
       "0                                                344                                       \n",
       "1                                                 86                                       \n",
       "2                                                 81                                       \n",
       "3                                                192                                       \n",
       "\n",
       "   No. of students\\rwho are not\\rreceiving full\\rtuition fee\\rreimbursement  \n",
       "0                                                378                         \n",
       "1                                                127                         \n",
       "2                                                 11                         \n",
       "3                                                 77                         "
      ]
     },
     "execution_count": 8,
     "metadata": {},
     "output_type": "execute_result"
    }
   ],
   "source": [
    "table1_df.head()"
   ]
  },
  {
   "cell_type": "code",
   "execution_count": 9,
   "id": "703a990e",
   "metadata": {},
   "outputs": [
    {
     "data": {
      "text/html": [
       "<div>\n",
       "<style scoped>\n",
       "    .dataframe tbody tr th:only-of-type {\n",
       "        vertical-align: middle;\n",
       "    }\n",
       "\n",
       "    .dataframe tbody tr th {\n",
       "        vertical-align: top;\n",
       "    }\n",
       "\n",
       "    .dataframe thead th {\n",
       "        text-align: right;\n",
       "    }\n",
       "</style>\n",
       "<table border=\"1\" class=\"dataframe\">\n",
       "  <thead>\n",
       "    <tr style=\"text-align: right;\">\n",
       "      <th></th>\n",
       "      <th>(All programs\\rof all years)</th>\n",
       "      <th>No. of Male\\rStudents</th>\n",
       "      <th>No. of Female\\rStudents</th>\n",
       "      <th>Total Students</th>\n",
       "    </tr>\n",
       "  </thead>\n",
       "  <tbody>\n",
       "    <tr>\n",
       "      <th>0</th>\n",
       "      <td>UG [4 Years\\rProgram(s)]</td>\n",
       "      <td>2489</td>\n",
       "      <td>583</td>\n",
       "      <td>3072</td>\n",
       "    </tr>\n",
       "    <tr>\n",
       "      <th>1</th>\n",
       "      <td>UG [5 Years\\rProgram(s)]</td>\n",
       "      <td>1359</td>\n",
       "      <td>291</td>\n",
       "      <td>1650</td>\n",
       "    </tr>\n",
       "    <tr>\n",
       "      <th>2</th>\n",
       "      <td>PG [2 Year\\rProgram(s)]</td>\n",
       "      <td>863</td>\n",
       "      <td>157</td>\n",
       "      <td>1020</td>\n",
       "    </tr>\n",
       "    <tr>\n",
       "      <th>3</th>\n",
       "      <td>PG [3 Year\\rProgram(s)]</td>\n",
       "      <td>753</td>\n",
       "      <td>148</td>\n",
       "      <td>901</td>\n",
       "    </tr>\n",
       "  </tbody>\n",
       "</table>\n",
       "</div>"
      ],
      "text/plain": [
       "  (All programs\\rof all years)  No. of Male\\rStudents  \\\n",
       "0     UG [4 Years\\rProgram(s)]                   2489   \n",
       "1     UG [5 Years\\rProgram(s)]                   1359   \n",
       "2      PG [2 Year\\rProgram(s)]                    863   \n",
       "3      PG [3 Year\\rProgram(s)]                    753   \n",
       "\n",
       "   No. of Female\\rStudents  Total Students  \n",
       "0                      583            3072  \n",
       "1                      291            1650  \n",
       "2                      157            1020  \n",
       "3                      148             901  "
      ]
     },
     "execution_count": 9,
     "metadata": {},
     "output_type": "execute_result"
    }
   ],
   "source": [
    "table1_df = table1_df.iloc[:, :4]\n",
    "\n",
    "table1_df.head()"
   ]
  },
  {
   "cell_type": "markdown",
   "id": "15daf64b",
   "metadata": {},
   "source": [
    "# Table 2"
   ]
  },
  {
   "cell_type": "code",
   "execution_count": 10,
   "id": "38084f57",
   "metadata": {},
   "outputs": [],
   "source": [
    "table2_df = nirf_df[2]"
   ]
  },
  {
   "cell_type": "code",
   "execution_count": 11,
   "id": "b19b9642",
   "metadata": {},
   "outputs": [
    {
     "data": {
      "text/html": [
       "<div>\n",
       "<style scoped>\n",
       "    .dataframe tbody tr th:only-of-type {\n",
       "        vertical-align: middle;\n",
       "    }\n",
       "\n",
       "    .dataframe tbody tr th {\n",
       "        vertical-align: top;\n",
       "    }\n",
       "\n",
       "    .dataframe thead th {\n",
       "        text-align: right;\n",
       "    }\n",
       "</style>\n",
       "<table border=\"1\" class=\"dataframe\">\n",
       "  <thead>\n",
       "    <tr style=\"text-align: right;\">\n",
       "      <th></th>\n",
       "      <th>Academic Year</th>\n",
       "      <th>No. of first year\\rstudents intake in the\\ryear</th>\n",
       "      <th>No. of first year\\rstudents admitted in\\rthe year</th>\n",
       "      <th>Academic Year.1</th>\n",
       "      <th>No. of students\\radmitted through\\rLateral entry</th>\n",
       "      <th>Academic Year.2</th>\n",
       "      <th>No. of students\\rgraduating in\\rminimum stipulated\\rtime</th>\n",
       "      <th>No. of students\\rplaced</th>\n",
       "      <th>Median salary of\\rplaced graduates per\\rannum(Amount in\\rRs.)</th>\n",
       "      <th>No. of students\\rselected for Higher\\rStudies</th>\n",
       "    </tr>\n",
       "  </thead>\n",
       "  <tbody>\n",
       "    <tr>\n",
       "      <th>0</th>\n",
       "      <td>2016-17</td>\n",
       "      <td>466</td>\n",
       "      <td>465</td>\n",
       "      <td>2017-18</td>\n",
       "      <td>0</td>\n",
       "      <td>2019-20</td>\n",
       "      <td>374</td>\n",
       "      <td>286</td>\n",
       "      <td>1500000(Fifteen\\rLakhs)</td>\n",
       "      <td>43</td>\n",
       "    </tr>\n",
       "    <tr>\n",
       "      <th>1</th>\n",
       "      <td>2017-18</td>\n",
       "      <td>466</td>\n",
       "      <td>378</td>\n",
       "      <td>2018-19</td>\n",
       "      <td>0</td>\n",
       "      <td>2020-21</td>\n",
       "      <td>338</td>\n",
       "      <td>292</td>\n",
       "      <td>1500000(Fifteen\\rLakhs)</td>\n",
       "      <td>17</td>\n",
       "    </tr>\n",
       "    <tr>\n",
       "      <th>2</th>\n",
       "      <td>2018-19</td>\n",
       "      <td>488</td>\n",
       "      <td>414</td>\n",
       "      <td>2019-20</td>\n",
       "      <td>0</td>\n",
       "      <td>2021-22</td>\n",
       "      <td>388</td>\n",
       "      <td>297</td>\n",
       "      <td>1700000(Seventeen\\rLaksh)</td>\n",
       "      <td>78</td>\n",
       "    </tr>\n",
       "  </tbody>\n",
       "</table>\n",
       "</div>"
      ],
      "text/plain": [
       "  Academic Year  No. of first year\\rstudents intake in the\\ryear  \\\n",
       "0       2016-17                                              466   \n",
       "1       2017-18                                              466   \n",
       "2       2018-19                                              488   \n",
       "\n",
       "   No. of first year\\rstudents admitted in\\rthe year Academic Year.1  \\\n",
       "0                                                465         2017-18   \n",
       "1                                                378         2018-19   \n",
       "2                                                414         2019-20   \n",
       "\n",
       "   No. of students\\radmitted through\\rLateral entry Academic Year.2  \\\n",
       "0                                                 0         2019-20   \n",
       "1                                                 0         2020-21   \n",
       "2                                                 0         2021-22   \n",
       "\n",
       "   No. of students\\rgraduating in\\rminimum stipulated\\rtime  \\\n",
       "0                                                374          \n",
       "1                                                338          \n",
       "2                                                388          \n",
       "\n",
       "   No. of students\\rplaced  \\\n",
       "0                      286   \n",
       "1                      292   \n",
       "2                      297   \n",
       "\n",
       "  Median salary of\\rplaced graduates per\\rannum(Amount in\\rRs.)  \\\n",
       "0                            1500000(Fifteen\\rLakhs)              \n",
       "1                            1500000(Fifteen\\rLakhs)              \n",
       "2                          1700000(Seventeen\\rLaksh)              \n",
       "\n",
       "   No. of students\\rselected for Higher\\rStudies  \n",
       "0                                             43  \n",
       "1                                             17  \n",
       "2                                             78  "
      ]
     },
     "execution_count": 11,
     "metadata": {},
     "output_type": "execute_result"
    }
   ],
   "source": [
    "table2_df.head()"
   ]
  },
  {
   "cell_type": "code",
   "execution_count": 12,
   "id": "3441c9e2",
   "metadata": {},
   "outputs": [
    {
     "data": {
      "text/plain": [
       "Index(['Academic Year', 'No. of first year\\rstudents intake in the\\ryear',\n",
       "       'No. of first year\\rstudents admitted in\\rthe year', 'Academic Year.1',\n",
       "       'No. of students\\radmitted through\\rLateral entry', 'Academic Year.2',\n",
       "       'No. of students\\rgraduating in\\rminimum stipulated\\rtime',\n",
       "       'No. of students\\rplaced',\n",
       "       'Median salary of\\rplaced graduates per\\rannum(Amount in\\rRs.)',\n",
       "       'No. of students\\rselected for Higher\\rStudies'],\n",
       "      dtype='object')"
      ]
     },
     "execution_count": 12,
     "metadata": {},
     "output_type": "execute_result"
    }
   ],
   "source": [
    "table2_df.columns"
   ]
  },
  {
   "cell_type": "code",
   "execution_count": 14,
   "id": "cba2652f",
   "metadata": {},
   "outputs": [
    {
     "data": {
      "text/plain": [
       "0      1500000(Fifteen\\rLakhs)\n",
       "1      1500000(Fifteen\\rLakhs)\n",
       "2    1700000(Seventeen\\rLaksh)\n",
       "Name: Median salary of\\rplaced graduates per\\rannum(Amount in\\rRs.), dtype: object"
      ]
     },
     "execution_count": 14,
     "metadata": {},
     "output_type": "execute_result"
    }
   ],
   "source": [
    "table2_df['Median salary of\\rplaced graduates per\\rannum(Amount in\\rRs.)']"
   ]
  },
  {
   "cell_type": "markdown",
   "id": "ee3ff6a2",
   "metadata": {},
   "source": [
    "# Table 3"
   ]
  },
  {
   "cell_type": "code",
   "execution_count": 15,
   "id": "214a3f50",
   "metadata": {},
   "outputs": [],
   "source": [
    "table3_df = nirf_df[3]"
   ]
  },
  {
   "cell_type": "code",
   "execution_count": 16,
   "id": "4dcec3b1",
   "metadata": {},
   "outputs": [
    {
     "data": {
      "text/html": [
       "<div>\n",
       "<style scoped>\n",
       "    .dataframe tbody tr th:only-of-type {\n",
       "        vertical-align: middle;\n",
       "    }\n",
       "\n",
       "    .dataframe tbody tr th {\n",
       "        vertical-align: top;\n",
       "    }\n",
       "\n",
       "    .dataframe thead th {\n",
       "        text-align: right;\n",
       "    }\n",
       "</style>\n",
       "<table border=\"1\" class=\"dataframe\">\n",
       "  <thead>\n",
       "    <tr style=\"text-align: right;\">\n",
       "      <th></th>\n",
       "      <th>Academic Year</th>\n",
       "      <th>No. of first year\\rstudents intake in the\\ryear</th>\n",
       "      <th>No. of first year\\rstudents admitted in\\rthe year</th>\n",
       "      <th>Academic Year.1</th>\n",
       "      <th>No. of students\\radmitted through\\rLateral entry</th>\n",
       "      <th>Academic Year.2</th>\n",
       "      <th>No. of students\\rgraduating in\\rminimum stipulated\\rtime</th>\n",
       "      <th>No. of students\\rplaced</th>\n",
       "      <th>Median salary of\\rplaced graduates per\\rannum(Amount in\\rRs.)</th>\n",
       "      <th>No. of students\\rselected for Higher\\rStudies</th>\n",
       "    </tr>\n",
       "  </thead>\n",
       "  <tbody>\n",
       "    <tr>\n",
       "      <th>0</th>\n",
       "      <td>2015-16</td>\n",
       "      <td>372</td>\n",
       "      <td>346</td>\n",
       "      <td>2016-17</td>\n",
       "      <td>0</td>\n",
       "      <td>2019-20</td>\n",
       "      <td>316</td>\n",
       "      <td>248</td>\n",
       "      <td>1600000(Sixteen\\rLakhs)</td>\n",
       "      <td>41</td>\n",
       "    </tr>\n",
       "    <tr>\n",
       "      <th>1</th>\n",
       "      <td>2016-17</td>\n",
       "      <td>372</td>\n",
       "      <td>360</td>\n",
       "      <td>2017-18</td>\n",
       "      <td>0</td>\n",
       "      <td>2020-21</td>\n",
       "      <td>342</td>\n",
       "      <td>287</td>\n",
       "      <td>1550000(Fifteen Lakhs\\rFifty thousand)</td>\n",
       "      <td>29</td>\n",
       "    </tr>\n",
       "    <tr>\n",
       "      <th>2</th>\n",
       "      <td>2017-18</td>\n",
       "      <td>372</td>\n",
       "      <td>442</td>\n",
       "      <td>2018-19</td>\n",
       "      <td>0</td>\n",
       "      <td>2021-22</td>\n",
       "      <td>426</td>\n",
       "      <td>352</td>\n",
       "      <td>1896000(Eighteen\\rLakhs Ninety Six\\rThousand)</td>\n",
       "      <td>65</td>\n",
       "    </tr>\n",
       "  </tbody>\n",
       "</table>\n",
       "</div>"
      ],
      "text/plain": [
       "  Academic Year  No. of first year\\rstudents intake in the\\ryear  \\\n",
       "0       2015-16                                              372   \n",
       "1       2016-17                                              372   \n",
       "2       2017-18                                              372   \n",
       "\n",
       "   No. of first year\\rstudents admitted in\\rthe year Academic Year.1  \\\n",
       "0                                                346         2016-17   \n",
       "1                                                360         2017-18   \n",
       "2                                                442         2018-19   \n",
       "\n",
       "   No. of students\\radmitted through\\rLateral entry Academic Year.2  \\\n",
       "0                                                 0         2019-20   \n",
       "1                                                 0         2020-21   \n",
       "2                                                 0         2021-22   \n",
       "\n",
       "   No. of students\\rgraduating in\\rminimum stipulated\\rtime  \\\n",
       "0                                                316          \n",
       "1                                                342          \n",
       "2                                                426          \n",
       "\n",
       "   No. of students\\rplaced  \\\n",
       "0                      248   \n",
       "1                      287   \n",
       "2                      352   \n",
       "\n",
       "  Median salary of\\rplaced graduates per\\rannum(Amount in\\rRs.)  \\\n",
       "0                            1600000(Sixteen\\rLakhs)              \n",
       "1             1550000(Fifteen Lakhs\\rFifty thousand)              \n",
       "2      1896000(Eighteen\\rLakhs Ninety Six\\rThousand)              \n",
       "\n",
       "   No. of students\\rselected for Higher\\rStudies  \n",
       "0                                             41  \n",
       "1                                             29  \n",
       "2                                             65  "
      ]
     },
     "execution_count": 16,
     "metadata": {},
     "output_type": "execute_result"
    }
   ],
   "source": [
    "table3_df.head()"
   ]
  },
  {
   "cell_type": "markdown",
   "id": "3f769d5e",
   "metadata": {},
   "source": [
    "# Table 4"
   ]
  },
  {
   "cell_type": "code",
   "execution_count": 14,
   "id": "ea160dcc",
   "metadata": {},
   "outputs": [],
   "source": [
    "table4_df = nirf_df[5]"
   ]
  },
  {
   "cell_type": "code",
   "execution_count": 15,
   "id": "c91659a1",
   "metadata": {},
   "outputs": [
    {
     "data": {
      "text/html": [
       "<div>\n",
       "<style scoped>\n",
       "    .dataframe tbody tr th:only-of-type {\n",
       "        vertical-align: middle;\n",
       "    }\n",
       "\n",
       "    .dataframe tbody tr th {\n",
       "        vertical-align: top;\n",
       "    }\n",
       "\n",
       "    .dataframe thead th {\n",
       "        text-align: right;\n",
       "    }\n",
       "</style>\n",
       "<table border=\"1\" class=\"dataframe\">\n",
       "  <thead>\n",
       "    <tr style=\"text-align: right;\">\n",
       "      <th></th>\n",
       "      <th>Ph.D (Student pursuing doctoral program till 2021-22)</th>\n",
       "      <th>Unnamed: 0</th>\n",
       "      <th>Unnamed: 1</th>\n",
       "      <th>Unnamed: 2</th>\n",
       "    </tr>\n",
       "  </thead>\n",
       "  <tbody>\n",
       "    <tr>\n",
       "      <th>0</th>\n",
       "      <td>NaN</td>\n",
       "      <td>Total Students</td>\n",
       "      <td>NaN</td>\n",
       "      <td>NaN</td>\n",
       "    </tr>\n",
       "    <tr>\n",
       "      <th>1</th>\n",
       "      <td>Full Time</td>\n",
       "      <td>69</td>\n",
       "      <td>NaN</td>\n",
       "      <td>NaN</td>\n",
       "    </tr>\n",
       "    <tr>\n",
       "      <th>2</th>\n",
       "      <td>Part Time</td>\n",
       "      <td>278</td>\n",
       "      <td>NaN</td>\n",
       "      <td>NaN</td>\n",
       "    </tr>\n",
       "    <tr>\n",
       "      <th>3</th>\n",
       "      <td>No. of Ph.D students graduated (including Inte...</td>\n",
       "      <td>NaN</td>\n",
       "      <td>NaN</td>\n",
       "      <td>NaN</td>\n",
       "    </tr>\n",
       "    <tr>\n",
       "      <th>4</th>\n",
       "      <td>NaN</td>\n",
       "      <td>2021-22</td>\n",
       "      <td>2020-21</td>\n",
       "      <td>2019-20</td>\n",
       "    </tr>\n",
       "  </tbody>\n",
       "</table>\n",
       "</div>"
      ],
      "text/plain": [
       "  Ph.D (Student pursuing doctoral program till 2021-22)      Unnamed: 0  \\\n",
       "0                                                NaN     Total Students   \n",
       "1                                          Full Time                 69   \n",
       "2                                          Part Time                278   \n",
       "3  No. of Ph.D students graduated (including Inte...                NaN   \n",
       "4                                                NaN            2021-22   \n",
       "\n",
       "  Unnamed: 1 Unnamed: 2  \n",
       "0        NaN        NaN  \n",
       "1        NaN        NaN  \n",
       "2        NaN        NaN  \n",
       "3        NaN        NaN  \n",
       "4    2020-21    2019-20  "
      ]
     },
     "execution_count": 15,
     "metadata": {},
     "output_type": "execute_result"
    }
   ],
   "source": [
    "table4_df.head()"
   ]
  },
  {
   "cell_type": "code",
   "execution_count": 16,
   "id": "777156b0",
   "metadata": {},
   "outputs": [],
   "source": [
    "table4_df = table4_df.iloc[1:3, :2]"
   ]
  },
  {
   "cell_type": "code",
   "execution_count": 17,
   "id": "8b913fd2",
   "metadata": {},
   "outputs": [
    {
     "data": {
      "text/html": [
       "<div>\n",
       "<style scoped>\n",
       "    .dataframe tbody tr th:only-of-type {\n",
       "        vertical-align: middle;\n",
       "    }\n",
       "\n",
       "    .dataframe tbody tr th {\n",
       "        vertical-align: top;\n",
       "    }\n",
       "\n",
       "    .dataframe thead th {\n",
       "        text-align: right;\n",
       "    }\n",
       "</style>\n",
       "<table border=\"1\" class=\"dataframe\">\n",
       "  <thead>\n",
       "    <tr style=\"text-align: right;\">\n",
       "      <th></th>\n",
       "      <th>Ph.D (Student pursuing doctoral program till 2021-22)</th>\n",
       "      <th>Unnamed: 0</th>\n",
       "    </tr>\n",
       "  </thead>\n",
       "  <tbody>\n",
       "    <tr>\n",
       "      <th>1</th>\n",
       "      <td>Full Time</td>\n",
       "      <td>69</td>\n",
       "    </tr>\n",
       "    <tr>\n",
       "      <th>2</th>\n",
       "      <td>Part Time</td>\n",
       "      <td>278</td>\n",
       "    </tr>\n",
       "  </tbody>\n",
       "</table>\n",
       "</div>"
      ],
      "text/plain": [
       "  Ph.D (Student pursuing doctoral program till 2021-22) Unnamed: 0\n",
       "1                                          Full Time            69\n",
       "2                                          Part Time           278"
      ]
     },
     "execution_count": 17,
     "metadata": {},
     "output_type": "execute_result"
    }
   ],
   "source": [
    "table4_df.head()"
   ]
  },
  {
   "cell_type": "markdown",
   "id": "510793ee",
   "metadata": {},
   "source": [
    "# Table 5"
   ]
  },
  {
   "cell_type": "code",
   "execution_count": 22,
   "id": "da09565c",
   "metadata": {},
   "outputs": [],
   "source": [
    "table5_df = nirf_df[6]"
   ]
  },
  {
   "cell_type": "code",
   "execution_count": 23,
   "id": "05ad1d56",
   "metadata": {},
   "outputs": [
    {
     "data": {
      "text/html": [
       "<div>\n",
       "<style scoped>\n",
       "    .dataframe tbody tr th:only-of-type {\n",
       "        vertical-align: middle;\n",
       "    }\n",
       "\n",
       "    .dataframe tbody tr th {\n",
       "        vertical-align: top;\n",
       "    }\n",
       "\n",
       "    .dataframe thead th {\n",
       "        text-align: right;\n",
       "    }\n",
       "</style>\n",
       "<table border=\"1\" class=\"dataframe\">\n",
       "  <thead>\n",
       "    <tr style=\"text-align: right;\">\n",
       "      <th></th>\n",
       "      <th>Financial Year</th>\n",
       "      <th>2021-22</th>\n",
       "      <th>2020-21</th>\n",
       "      <th>2019-20</th>\n",
       "    </tr>\n",
       "  </thead>\n",
       "  <tbody>\n",
       "    <tr>\n",
       "      <th>0</th>\n",
       "      <td>NaN</td>\n",
       "      <td>Utilised Amount</td>\n",
       "      <td>Utilised Amount</td>\n",
       "      <td>Utilised Amount</td>\n",
       "    </tr>\n",
       "    <tr>\n",
       "      <th>1</th>\n",
       "      <td>Annual Capital Expenditure on Academic Activit...</td>\n",
       "      <td>NaN</td>\n",
       "      <td>NaN</td>\n",
       "      <td>NaN</td>\n",
       "    </tr>\n",
       "    <tr>\n",
       "      <th>2</th>\n",
       "      <td>Library ( Books, Journals and e-Resources only)</td>\n",
       "      <td>7142765 (Seventy One lakh Forty Two thousand S...</td>\n",
       "      <td>9170498 (Ninety One lakh seventy thousand four...</td>\n",
       "      <td>4542135 (Forty Five Lakhs Forty Two Thousand O...</td>\n",
       "    </tr>\n",
       "    <tr>\n",
       "      <th>3</th>\n",
       "      <td>New Equipment and software for Laboratories</td>\n",
       "      <td>59476057 (Five Crore Nighty Four Lakh Seventy ...</td>\n",
       "      <td>61156696 (Six Crore eleven lakh fifty six thou...</td>\n",
       "      <td>55027612 (Five Crore Fifty Lakh Twenty Seven T...</td>\n",
       "    </tr>\n",
       "    <tr>\n",
       "      <th>4</th>\n",
       "      <td>Engineering Workshops</td>\n",
       "      <td>15451631 (One Crore Fifty Four Lakh Fifty One ...</td>\n",
       "      <td>16878590 (One Crore sixty eight lakh seventy e...</td>\n",
       "      <td>16491816 (One Crore Sixty Four Lakh Ninety One...</td>\n",
       "    </tr>\n",
       "  </tbody>\n",
       "</table>\n",
       "</div>"
      ],
      "text/plain": [
       "                                      Financial Year  \\\n",
       "0                                                NaN   \n",
       "1  Annual Capital Expenditure on Academic Activit...   \n",
       "2    Library ( Books, Journals and e-Resources only)   \n",
       "3        New Equipment and software for Laboratories   \n",
       "4                              Engineering Workshops   \n",
       "\n",
       "                                             2021-22  \\\n",
       "0                                    Utilised Amount   \n",
       "1                                                NaN   \n",
       "2  7142765 (Seventy One lakh Forty Two thousand S...   \n",
       "3  59476057 (Five Crore Nighty Four Lakh Seventy ...   \n",
       "4  15451631 (One Crore Fifty Four Lakh Fifty One ...   \n",
       "\n",
       "                                             2020-21  \\\n",
       "0                                    Utilised Amount   \n",
       "1                                                NaN   \n",
       "2  9170498 (Ninety One lakh seventy thousand four...   \n",
       "3  61156696 (Six Crore eleven lakh fifty six thou...   \n",
       "4  16878590 (One Crore sixty eight lakh seventy e...   \n",
       "\n",
       "                                             2019-20  \n",
       "0                                    Utilised Amount  \n",
       "1                                                NaN  \n",
       "2  4542135 (Forty Five Lakhs Forty Two Thousand O...  \n",
       "3  55027612 (Five Crore Fifty Lakh Twenty Seven T...  \n",
       "4  16491816 (One Crore Sixty Four Lakh Ninety One...  "
      ]
     },
     "execution_count": 23,
     "metadata": {},
     "output_type": "execute_result"
    }
   ],
   "source": [
    "table5_df.head()"
   ]
  },
  {
   "cell_type": "code",
   "execution_count": 24,
   "id": "f02dfa7e",
   "metadata": {},
   "outputs": [],
   "source": [
    "table5_df = table5_df.iloc[2:, 1:]"
   ]
  },
  {
   "cell_type": "code",
   "execution_count": 25,
   "id": "973d0617",
   "metadata": {},
   "outputs": [
    {
     "data": {
      "text/html": [
       "<div>\n",
       "<style scoped>\n",
       "    .dataframe tbody tr th:only-of-type {\n",
       "        vertical-align: middle;\n",
       "    }\n",
       "\n",
       "    .dataframe tbody tr th {\n",
       "        vertical-align: top;\n",
       "    }\n",
       "\n",
       "    .dataframe thead th {\n",
       "        text-align: right;\n",
       "    }\n",
       "</style>\n",
       "<table border=\"1\" class=\"dataframe\">\n",
       "  <thead>\n",
       "    <tr style=\"text-align: right;\">\n",
       "      <th></th>\n",
       "      <th>Financial Year</th>\n",
       "      <th>2021-22</th>\n",
       "      <th>2020-21</th>\n",
       "      <th>2019-20</th>\n",
       "    </tr>\n",
       "  </thead>\n",
       "  <tbody>\n",
       "    <tr>\n",
       "      <th>2</th>\n",
       "      <td>Library ( Books, Journals and e-Resources only)</td>\n",
       "      <td>7142765 (Seventy One lakh Forty Two thousand S...</td>\n",
       "      <td>9170498 (Ninety One lakh seventy thousand four...</td>\n",
       "      <td>4542135 (Forty Five Lakhs Forty Two Thousand O...</td>\n",
       "    </tr>\n",
       "    <tr>\n",
       "      <th>3</th>\n",
       "      <td>New Equipment and software for Laboratories</td>\n",
       "      <td>59476057 (Five Crore Nighty Four Lakh Seventy ...</td>\n",
       "      <td>61156696 (Six Crore eleven lakh fifty six thou...</td>\n",
       "      <td>55027612 (Five Crore Fifty Lakh Twenty Seven T...</td>\n",
       "    </tr>\n",
       "    <tr>\n",
       "      <th>4</th>\n",
       "      <td>Engineering Workshops</td>\n",
       "      <td>15451631 (One Crore Fifty Four Lakh Fifty One ...</td>\n",
       "      <td>16878590 (One Crore sixty eight lakh seventy e...</td>\n",
       "      <td>16491816 (One Crore Sixty Four Lakh Ninety One...</td>\n",
       "    </tr>\n",
       "    <tr>\n",
       "      <th>5</th>\n",
       "      <td>Other expenditure on creation of Capital Asset...</td>\n",
       "      <td>14953074 (One Crore Forty Nine Lakhs Fifty Thr...</td>\n",
       "      <td>7034712 (Seventy Lakhs Thirty Four thousand se...</td>\n",
       "      <td>8147079 (Eighty One Lakh Forty Seven Thousand ...</td>\n",
       "    </tr>\n",
       "  </tbody>\n",
       "</table>\n",
       "</div>"
      ],
      "text/plain": [
       "                                      Financial Year  \\\n",
       "2    Library ( Books, Journals and e-Resources only)   \n",
       "3        New Equipment and software for Laboratories   \n",
       "4                              Engineering Workshops   \n",
       "5  Other expenditure on creation of Capital Asset...   \n",
       "\n",
       "                                             2021-22  \\\n",
       "2  7142765 (Seventy One lakh Forty Two thousand S...   \n",
       "3  59476057 (Five Crore Nighty Four Lakh Seventy ...   \n",
       "4  15451631 (One Crore Fifty Four Lakh Fifty One ...   \n",
       "5  14953074 (One Crore Forty Nine Lakhs Fifty Thr...   \n",
       "\n",
       "                                             2020-21  \\\n",
       "2  9170498 (Ninety One lakh seventy thousand four...   \n",
       "3  61156696 (Six Crore eleven lakh fifty six thou...   \n",
       "4  16878590 (One Crore sixty eight lakh seventy e...   \n",
       "5  7034712 (Seventy Lakhs Thirty Four thousand se...   \n",
       "\n",
       "                                             2019-20  \n",
       "2  4542135 (Forty Five Lakhs Forty Two Thousand O...  \n",
       "3  55027612 (Five Crore Fifty Lakh Twenty Seven T...  \n",
       "4  16491816 (One Crore Sixty Four Lakh Ninety One...  \n",
       "5  8147079 (Eighty One Lakh Forty Seven Thousand ...  "
      ]
     },
     "execution_count": 25,
     "metadata": {},
     "output_type": "execute_result"
    }
   ],
   "source": [
    "table5_df.head()"
   ]
  },
  {
   "cell_type": "markdown",
   "id": "ac739100",
   "metadata": {},
   "source": [
    "# Table 6"
   ]
  },
  {
   "cell_type": "code",
   "execution_count": 26,
   "id": "45a6fdcf",
   "metadata": {},
   "outputs": [],
   "source": [
    "table6_df = nirf_df[7]"
   ]
  },
  {
   "cell_type": "code",
   "execution_count": 27,
   "id": "23ee6f1d",
   "metadata": {},
   "outputs": [
    {
     "data": {
      "text/html": [
       "<div>\n",
       "<style scoped>\n",
       "    .dataframe tbody tr th:only-of-type {\n",
       "        vertical-align: middle;\n",
       "    }\n",
       "\n",
       "    .dataframe tbody tr th {\n",
       "        vertical-align: top;\n",
       "    }\n",
       "\n",
       "    .dataframe thead th {\n",
       "        text-align: right;\n",
       "    }\n",
       "</style>\n",
       "<table border=\"1\" class=\"dataframe\">\n",
       "  <thead>\n",
       "    <tr style=\"text-align: right;\">\n",
       "      <th></th>\n",
       "      <th>Financial Year</th>\n",
       "      <th>2021-22</th>\n",
       "      <th>2020-21</th>\n",
       "      <th>2019-20</th>\n",
       "    </tr>\n",
       "  </thead>\n",
       "  <tbody>\n",
       "    <tr>\n",
       "      <th>0</th>\n",
       "      <td>NaN</td>\n",
       "      <td>Utilised Amount</td>\n",
       "      <td>Utilised Amount</td>\n",
       "      <td>Utilised Amount</td>\n",
       "    </tr>\n",
       "    <tr>\n",
       "      <th>1</th>\n",
       "      <td>Annual Operational Expenditure</td>\n",
       "      <td>NaN</td>\n",
       "      <td>NaN</td>\n",
       "      <td>NaN</td>\n",
       "    </tr>\n",
       "    <tr>\n",
       "      <th>2</th>\n",
       "      <td>Salaries (Teaching and Non Teaching staff)</td>\n",
       "      <td>687852978 (Sixty Eight Crore Seventy Eight Lak...</td>\n",
       "      <td>653995762 (Sixty Five Crore Thirty nine lakh n...</td>\n",
       "      <td>634374261 (Sixty Three Crore Forty Three Lakh ...</td>\n",
       "    </tr>\n",
       "    <tr>\n",
       "      <th>3</th>\n",
       "      <td>Maintenance of Academic Infrastructure or cons...</td>\n",
       "      <td>240419708 (Twenty Four Crore Four Lakh Ninetee...</td>\n",
       "      <td>180235223 (Eighteen crore two lakh thirty five...</td>\n",
       "      <td>201756591 (Twenty Crore Seventeen Lakh Fifty S...</td>\n",
       "    </tr>\n",
       "    <tr>\n",
       "      <th>4</th>\n",
       "      <td>Seminars/Conferences/Workshops</td>\n",
       "      <td>3638103 (Thirty Six Lakh Thirty Eight Thousand...</td>\n",
       "      <td>2861576 (Twenty Eight Lakh Sixty One Thousand ...</td>\n",
       "      <td>6913731 (Sixty Nine Lakh Thirteen Thousand Sev...</td>\n",
       "    </tr>\n",
       "  </tbody>\n",
       "</table>\n",
       "</div>"
      ],
      "text/plain": [
       "                                      Financial Year  \\\n",
       "0                                                NaN   \n",
       "1                     Annual Operational Expenditure   \n",
       "2         Salaries (Teaching and Non Teaching staff)   \n",
       "3  Maintenance of Academic Infrastructure or cons...   \n",
       "4                     Seminars/Conferences/Workshops   \n",
       "\n",
       "                                             2021-22  \\\n",
       "0                                    Utilised Amount   \n",
       "1                                                NaN   \n",
       "2  687852978 (Sixty Eight Crore Seventy Eight Lak...   \n",
       "3  240419708 (Twenty Four Crore Four Lakh Ninetee...   \n",
       "4  3638103 (Thirty Six Lakh Thirty Eight Thousand...   \n",
       "\n",
       "                                             2020-21  \\\n",
       "0                                    Utilised Amount   \n",
       "1                                                NaN   \n",
       "2  653995762 (Sixty Five Crore Thirty nine lakh n...   \n",
       "3  180235223 (Eighteen crore two lakh thirty five...   \n",
       "4  2861576 (Twenty Eight Lakh Sixty One Thousand ...   \n",
       "\n",
       "                                             2019-20  \n",
       "0                                    Utilised Amount  \n",
       "1                                                NaN  \n",
       "2  634374261 (Sixty Three Crore Forty Three Lakh ...  \n",
       "3  201756591 (Twenty Crore Seventeen Lakh Fifty S...  \n",
       "4  6913731 (Sixty Nine Lakh Thirteen Thousand Sev...  "
      ]
     },
     "execution_count": 27,
     "metadata": {},
     "output_type": "execute_result"
    }
   ],
   "source": [
    "table6_df.head()"
   ]
  },
  {
   "cell_type": "code",
   "execution_count": 28,
   "id": "caca9c5f",
   "metadata": {},
   "outputs": [],
   "source": [
    "table6_df = table6_df.iloc[2:, :]"
   ]
  },
  {
   "cell_type": "code",
   "execution_count": 29,
   "id": "9a2039ae",
   "metadata": {},
   "outputs": [
    {
     "data": {
      "text/html": [
       "<div>\n",
       "<style scoped>\n",
       "    .dataframe tbody tr th:only-of-type {\n",
       "        vertical-align: middle;\n",
       "    }\n",
       "\n",
       "    .dataframe tbody tr th {\n",
       "        vertical-align: top;\n",
       "    }\n",
       "\n",
       "    .dataframe thead th {\n",
       "        text-align: right;\n",
       "    }\n",
       "</style>\n",
       "<table border=\"1\" class=\"dataframe\">\n",
       "  <thead>\n",
       "    <tr style=\"text-align: right;\">\n",
       "      <th></th>\n",
       "      <th>Financial Year</th>\n",
       "      <th>2021-22</th>\n",
       "      <th>2020-21</th>\n",
       "      <th>2019-20</th>\n",
       "    </tr>\n",
       "  </thead>\n",
       "  <tbody>\n",
       "    <tr>\n",
       "      <th>2</th>\n",
       "      <td>Salaries (Teaching and Non Teaching staff)</td>\n",
       "      <td>687852978 (Sixty Eight Crore Seventy Eight Lak...</td>\n",
       "      <td>653995762 (Sixty Five Crore Thirty nine lakh n...</td>\n",
       "      <td>634374261 (Sixty Three Crore Forty Three Lakh ...</td>\n",
       "    </tr>\n",
       "    <tr>\n",
       "      <th>3</th>\n",
       "      <td>Maintenance of Academic Infrastructure or cons...</td>\n",
       "      <td>240419708 (Twenty Four Crore Four Lakh Ninetee...</td>\n",
       "      <td>180235223 (Eighteen crore two lakh thirty five...</td>\n",
       "      <td>201756591 (Twenty Crore Seventeen Lakh Fifty S...</td>\n",
       "    </tr>\n",
       "    <tr>\n",
       "      <th>4</th>\n",
       "      <td>Seminars/Conferences/Workshops</td>\n",
       "      <td>3638103 (Thirty Six Lakh Thirty Eight Thousand...</td>\n",
       "      <td>2861576 (Twenty Eight Lakh Sixty One Thousand ...</td>\n",
       "      <td>6913731 (Sixty Nine Lakh Thirteen Thousand Sev...</td>\n",
       "    </tr>\n",
       "  </tbody>\n",
       "</table>\n",
       "</div>"
      ],
      "text/plain": [
       "                                      Financial Year  \\\n",
       "2         Salaries (Teaching and Non Teaching staff)   \n",
       "3  Maintenance of Academic Infrastructure or cons...   \n",
       "4                     Seminars/Conferences/Workshops   \n",
       "\n",
       "                                             2021-22  \\\n",
       "2  687852978 (Sixty Eight Crore Seventy Eight Lak...   \n",
       "3  240419708 (Twenty Four Crore Four Lakh Ninetee...   \n",
       "4  3638103 (Thirty Six Lakh Thirty Eight Thousand...   \n",
       "\n",
       "                                             2020-21  \\\n",
       "2  653995762 (Sixty Five Crore Thirty nine lakh n...   \n",
       "3  180235223 (Eighteen crore two lakh thirty five...   \n",
       "4  2861576 (Twenty Eight Lakh Sixty One Thousand ...   \n",
       "\n",
       "                                             2019-20  \n",
       "2  634374261 (Sixty Three Crore Forty Three Lakh ...  \n",
       "3  201756591 (Twenty Crore Seventeen Lakh Fifty S...  \n",
       "4  6913731 (Sixty Nine Lakh Thirteen Thousand Sev...  "
      ]
     },
     "execution_count": 29,
     "metadata": {},
     "output_type": "execute_result"
    }
   ],
   "source": [
    "table6_df.head()"
   ]
  },
  {
   "cell_type": "markdown",
   "id": "f1534cc9",
   "metadata": {},
   "source": [
    "# Table 7"
   ]
  },
  {
   "cell_type": "code",
   "execution_count": 122,
   "id": "06c50b11",
   "metadata": {},
   "outputs": [],
   "source": [
    "table7_df = nirf_df[8]"
   ]
  },
  {
   "cell_type": "code",
   "execution_count": 123,
   "id": "04192ef2",
   "metadata": {},
   "outputs": [
    {
     "data": {
      "text/html": [
       "<div>\n",
       "<style scoped>\n",
       "    .dataframe tbody tr th:only-of-type {\n",
       "        vertical-align: middle;\n",
       "    }\n",
       "\n",
       "    .dataframe tbody tr th {\n",
       "        vertical-align: top;\n",
       "    }\n",
       "\n",
       "    .dataframe thead th {\n",
       "        text-align: right;\n",
       "    }\n",
       "</style>\n",
       "<table border=\"1\" class=\"dataframe\">\n",
       "  <thead>\n",
       "    <tr style=\"text-align: right;\">\n",
       "      <th></th>\n",
       "      <th>Financial Year</th>\n",
       "      <th>2021-22</th>\n",
       "      <th>2020-21</th>\n",
       "      <th>2019-20</th>\n",
       "    </tr>\n",
       "  </thead>\n",
       "  <tbody>\n",
       "  </tbody>\n",
       "</table>\n",
       "</div>"
      ],
      "text/plain": [
       "Empty DataFrame\n",
       "Columns: [Financial Year, 2021-22, 2020-21, 2019-20]\n",
       "Index: []"
      ]
     },
     "execution_count": 123,
     "metadata": {},
     "output_type": "execute_result"
    }
   ],
   "source": [
    "table7_df.head()"
   ]
  },
  {
   "cell_type": "code",
   "execution_count": 124,
   "id": "3b59777e",
   "metadata": {},
   "outputs": [
    {
     "data": {
      "text/plain": [
       "[]"
      ]
     },
     "execution_count": 124,
     "metadata": {},
     "output_type": "execute_result"
    }
   ],
   "source": [
    "columns = table7_df.columns.values.tolist()\n",
    "\n",
    "data_list = table7_df.values.tolist()\n",
    "\n",
    "data_list"
   ]
  },
  {
   "cell_type": "code",
   "execution_count": 125,
   "id": "70194e02",
   "metadata": {},
   "outputs": [],
   "source": [
    "table7_df = nirf_df[9]"
   ]
  },
  {
   "cell_type": "code",
   "execution_count": 126,
   "id": "4a917d13",
   "metadata": {},
   "outputs": [
    {
     "data": {
      "text/html": [
       "<div>\n",
       "<style scoped>\n",
       "    .dataframe tbody tr th:only-of-type {\n",
       "        vertical-align: middle;\n",
       "    }\n",
       "\n",
       "    .dataframe tbody tr th {\n",
       "        vertical-align: top;\n",
       "    }\n",
       "\n",
       "    .dataframe thead th {\n",
       "        text-align: right;\n",
       "    }\n",
       "</style>\n",
       "<table border=\"1\" class=\"dataframe\">\n",
       "  <thead>\n",
       "    <tr style=\"text-align: right;\">\n",
       "      <th></th>\n",
       "      <th>Total no. of Sponsored Projects</th>\n",
       "      <th>28</th>\n",
       "      <th>33</th>\n",
       "      <th>25</th>\n",
       "    </tr>\n",
       "  </thead>\n",
       "  <tbody>\n",
       "    <tr>\n",
       "      <th>0</th>\n",
       "      <td>Total no. of Funding Agencies</td>\n",
       "      <td>22</td>\n",
       "      <td>11</td>\n",
       "      <td>13</td>\n",
       "    </tr>\n",
       "    <tr>\n",
       "      <th>1</th>\n",
       "      <td>Total Amount Received (Amount in Rupees)</td>\n",
       "      <td>20910139</td>\n",
       "      <td>21741902</td>\n",
       "      <td>20266307</td>\n",
       "    </tr>\n",
       "    <tr>\n",
       "      <th>2</th>\n",
       "      <td>Amount Received in Words</td>\n",
       "      <td>Two Crore Nine Lakhs Ten thousand One hundred ...</td>\n",
       "      <td>Two Crore Seventeen Lakh Forty one thousand Ni...</td>\n",
       "      <td>Two crore two lakh sixty six thousand three hu...</td>\n",
       "    </tr>\n",
       "  </tbody>\n",
       "</table>\n",
       "</div>"
      ],
      "text/plain": [
       "            Total no. of Sponsored Projects  \\\n",
       "0             Total no. of Funding Agencies   \n",
       "1  Total Amount Received (Amount in Rupees)   \n",
       "2                  Amount Received in Words   \n",
       "\n",
       "                                                  28  \\\n",
       "0                                                 22   \n",
       "1                                           20910139   \n",
       "2  Two Crore Nine Lakhs Ten thousand One hundred ...   \n",
       "\n",
       "                                                  33  \\\n",
       "0                                                 11   \n",
       "1                                           21741902   \n",
       "2  Two Crore Seventeen Lakh Forty one thousand Ni...   \n",
       "\n",
       "                                                  25  \n",
       "0                                                 13  \n",
       "1                                           20266307  \n",
       "2  Two crore two lakh sixty six thousand three hu...  "
      ]
     },
     "execution_count": 126,
     "metadata": {},
     "output_type": "execute_result"
    }
   ],
   "source": [
    "table7_df.head()"
   ]
  },
  {
   "cell_type": "code",
   "execution_count": 127,
   "id": "a945b345",
   "metadata": {},
   "outputs": [
    {
     "data": {
      "text/plain": [
       "[['Total no. of Sponsored Projects', '28', '33', '25'],\n",
       " ['Total no. of Funding Agencies', '22', '11', '13'],\n",
       " ['Total Amount Received (Amount in Rupees)',\n",
       "  '20910139',\n",
       "  '21741902',\n",
       "  '20266307'],\n",
       " ['Amount Received in Words',\n",
       "  'Two Crore Nine Lakhs Ten thousand One hundred Thirty Nine',\n",
       "  'Two Crore Seventeen Lakh Forty one thousand Nine hundred\\rTwo',\n",
       "  'Two crore two lakh sixty six thousand three hundred seven']]"
      ]
     },
     "execution_count": 127,
     "metadata": {},
     "output_type": "execute_result"
    }
   ],
   "source": [
    "data_list.append(table7_df.columns.values.tolist())\n",
    "\n",
    "for value in table7_df.values.tolist():\n",
    "    data_list.append(value)\n",
    "\n",
    "data_list"
   ]
  },
  {
   "cell_type": "code",
   "execution_count": 128,
   "id": "408cfecf",
   "metadata": {},
   "outputs": [
    {
     "data": {
      "text/html": [
       "<div>\n",
       "<style scoped>\n",
       "    .dataframe tbody tr th:only-of-type {\n",
       "        vertical-align: middle;\n",
       "    }\n",
       "\n",
       "    .dataframe tbody tr th {\n",
       "        vertical-align: top;\n",
       "    }\n",
       "\n",
       "    .dataframe thead th {\n",
       "        text-align: right;\n",
       "    }\n",
       "</style>\n",
       "<table border=\"1\" class=\"dataframe\">\n",
       "  <thead>\n",
       "    <tr style=\"text-align: right;\">\n",
       "      <th></th>\n",
       "      <th>Financial Year</th>\n",
       "      <th>2021-22</th>\n",
       "      <th>2020-21</th>\n",
       "      <th>2019-20</th>\n",
       "    </tr>\n",
       "  </thead>\n",
       "  <tbody>\n",
       "    <tr>\n",
       "      <th>0</th>\n",
       "      <td>Total no. of Sponsored Projects</td>\n",
       "      <td>28</td>\n",
       "      <td>33</td>\n",
       "      <td>25</td>\n",
       "    </tr>\n",
       "    <tr>\n",
       "      <th>1</th>\n",
       "      <td>Total no. of Funding Agencies</td>\n",
       "      <td>22</td>\n",
       "      <td>11</td>\n",
       "      <td>13</td>\n",
       "    </tr>\n",
       "    <tr>\n",
       "      <th>2</th>\n",
       "      <td>Total Amount Received (Amount in Rupees)</td>\n",
       "      <td>20910139</td>\n",
       "      <td>21741902</td>\n",
       "      <td>20266307</td>\n",
       "    </tr>\n",
       "    <tr>\n",
       "      <th>3</th>\n",
       "      <td>Amount Received in Words</td>\n",
       "      <td>Two Crore Nine Lakhs Ten thousand One hundred ...</td>\n",
       "      <td>Two Crore Seventeen Lakh Forty one thousand Ni...</td>\n",
       "      <td>Two crore two lakh sixty six thousand three hu...</td>\n",
       "    </tr>\n",
       "  </tbody>\n",
       "</table>\n",
       "</div>"
      ],
      "text/plain": [
       "                             Financial Year  \\\n",
       "0           Total no. of Sponsored Projects   \n",
       "1             Total no. of Funding Agencies   \n",
       "2  Total Amount Received (Amount in Rupees)   \n",
       "3                  Amount Received in Words   \n",
       "\n",
       "                                             2021-22  \\\n",
       "0                                                 28   \n",
       "1                                                 22   \n",
       "2                                           20910139   \n",
       "3  Two Crore Nine Lakhs Ten thousand One hundred ...   \n",
       "\n",
       "                                             2020-21  \\\n",
       "0                                                 33   \n",
       "1                                                 11   \n",
       "2                                           21741902   \n",
       "3  Two Crore Seventeen Lakh Forty one thousand Ni...   \n",
       "\n",
       "                                             2019-20  \n",
       "0                                                 25  \n",
       "1                                                 13  \n",
       "2                                           20266307  \n",
       "3  Two crore two lakh sixty six thousand three hu...  "
      ]
     },
     "execution_count": 128,
     "metadata": {},
     "output_type": "execute_result"
    }
   ],
   "source": [
    "data_df = pd.DataFrame(data_list, columns=columns)\n",
    "\n",
    "data_df"
   ]
  },
  {
   "cell_type": "markdown",
   "id": "49846e03",
   "metadata": {},
   "source": [
    "# Table 8"
   ]
  },
  {
   "cell_type": "code",
   "execution_count": 36,
   "id": "caa120ea",
   "metadata": {},
   "outputs": [],
   "source": [
    "table8_df = nirf_df[10]"
   ]
  },
  {
   "cell_type": "code",
   "execution_count": 37,
   "id": "17fcd326",
   "metadata": {},
   "outputs": [
    {
     "data": {
      "text/html": [
       "<div>\n",
       "<style scoped>\n",
       "    .dataframe tbody tr th:only-of-type {\n",
       "        vertical-align: middle;\n",
       "    }\n",
       "\n",
       "    .dataframe tbody tr th {\n",
       "        vertical-align: top;\n",
       "    }\n",
       "\n",
       "    .dataframe thead th {\n",
       "        text-align: right;\n",
       "    }\n",
       "</style>\n",
       "<table border=\"1\" class=\"dataframe\">\n",
       "  <thead>\n",
       "    <tr style=\"text-align: right;\">\n",
       "      <th></th>\n",
       "      <th>Financial Year</th>\n",
       "      <th>2021-22</th>\n",
       "      <th>2020-21</th>\n",
       "      <th>2019-20</th>\n",
       "    </tr>\n",
       "  </thead>\n",
       "  <tbody>\n",
       "    <tr>\n",
       "      <th>0</th>\n",
       "      <td>Total no. of Consultancy Projects</td>\n",
       "      <td>53</td>\n",
       "      <td>27</td>\n",
       "      <td>11</td>\n",
       "    </tr>\n",
       "    <tr>\n",
       "      <th>1</th>\n",
       "      <td>Total no. of Client Organizations</td>\n",
       "      <td>50</td>\n",
       "      <td>27</td>\n",
       "      <td>11</td>\n",
       "    </tr>\n",
       "    <tr>\n",
       "      <th>2</th>\n",
       "      <td>Total Amount Received (Amount in Rupees)</td>\n",
       "      <td>10646770</td>\n",
       "      <td>5088530</td>\n",
       "      <td>13879630</td>\n",
       "    </tr>\n",
       "    <tr>\n",
       "      <th>3</th>\n",
       "      <td>Amount Received in Words</td>\n",
       "      <td>One Crore Six Lakhs Forty six thousand Seven h...</td>\n",
       "      <td>Fifty lakh eighty eight thousand Five Hundred ...</td>\n",
       "      <td>One Crore Thirty Eight Lakh Seventy Nine Thous...</td>\n",
       "    </tr>\n",
       "  </tbody>\n",
       "</table>\n",
       "</div>"
      ],
      "text/plain": [
       "                             Financial Year  \\\n",
       "0         Total no. of Consultancy Projects   \n",
       "1         Total no. of Client Organizations   \n",
       "2  Total Amount Received (Amount in Rupees)   \n",
       "3                  Amount Received in Words   \n",
       "\n",
       "                                             2021-22  \\\n",
       "0                                                 53   \n",
       "1                                                 50   \n",
       "2                                           10646770   \n",
       "3  One Crore Six Lakhs Forty six thousand Seven h...   \n",
       "\n",
       "                                             2020-21  \\\n",
       "0                                                 27   \n",
       "1                                                 27   \n",
       "2                                            5088530   \n",
       "3  Fifty lakh eighty eight thousand Five Hundred ...   \n",
       "\n",
       "                                             2019-20  \n",
       "0                                                 11  \n",
       "1                                                 11  \n",
       "2                                           13879630  \n",
       "3  One Crore Thirty Eight Lakh Seventy Nine Thous...  "
      ]
     },
     "execution_count": 37,
     "metadata": {},
     "output_type": "execute_result"
    }
   ],
   "source": [
    "table8_df.head()"
   ]
  },
  {
   "cell_type": "markdown",
   "id": "a73dd028",
   "metadata": {},
   "source": [
    "# Table 9"
   ]
  },
  {
   "cell_type": "code",
   "execution_count": 38,
   "id": "1868e359",
   "metadata": {},
   "outputs": [],
   "source": [
    "table9_df = nirf_df[11]"
   ]
  },
  {
   "cell_type": "code",
   "execution_count": 39,
   "id": "b52068d1",
   "metadata": {},
   "outputs": [
    {
     "data": {
      "text/html": [
       "<div>\n",
       "<style scoped>\n",
       "    .dataframe tbody tr th:only-of-type {\n",
       "        vertical-align: middle;\n",
       "    }\n",
       "\n",
       "    .dataframe tbody tr th {\n",
       "        vertical-align: top;\n",
       "    }\n",
       "\n",
       "    .dataframe thead th {\n",
       "        text-align: right;\n",
       "    }\n",
       "</style>\n",
       "<table border=\"1\" class=\"dataframe\">\n",
       "  <thead>\n",
       "    <tr style=\"text-align: right;\">\n",
       "      <th></th>\n",
       "      <th>1. Do your institution buildings have Lifts/Ramps?</th>\n",
       "      <th>Yes, more than 80% of the buildings</th>\n",
       "    </tr>\n",
       "  </thead>\n",
       "  <tbody>\n",
       "    <tr>\n",
       "      <th>0</th>\n",
       "      <td>2. Do your institution have provision for walk...</td>\n",
       "      <td>Yes</td>\n",
       "    </tr>\n",
       "    <tr>\n",
       "      <th>1</th>\n",
       "      <td>3. Do your institution buildings have speciall...</td>\n",
       "      <td>Yes, more than 80% of the buildings</td>\n",
       "    </tr>\n",
       "  </tbody>\n",
       "</table>\n",
       "</div>"
      ],
      "text/plain": [
       "  1. Do your institution buildings have Lifts/Ramps?  \\\n",
       "0  2. Do your institution have provision for walk...   \n",
       "1  3. Do your institution buildings have speciall...   \n",
       "\n",
       "   Yes, more than 80% of the buildings  \n",
       "0                                  Yes  \n",
       "1  Yes, more than 80% of the buildings  "
      ]
     },
     "execution_count": 39,
     "metadata": {},
     "output_type": "execute_result"
    }
   ],
   "source": [
    "table9_df.head()"
   ]
  },
  {
   "cell_type": "code",
   "execution_count": 92,
   "id": "ab59c2fa",
   "metadata": {},
   "outputs": [
    {
     "data": {
      "text/plain": [
       "[['1. Do your institution buildings have Lifts/Ramps?',\n",
       "  'Yes, more than 80% of the buildings']]"
      ]
     },
     "execution_count": 92,
     "metadata": {},
     "output_type": "execute_result"
    }
   ],
   "source": [
    "data = [table9_df.columns.values.tolist()]\n",
    "\n",
    "data"
   ]
  },
  {
   "cell_type": "code",
   "execution_count": 93,
   "id": "ea4169ba",
   "metadata": {},
   "outputs": [
    {
     "data": {
      "text/plain": [
       "[['1. Do your institution buildings have Lifts/Ramps?',\n",
       "  'Yes, more than 80% of the buildings'],\n",
       " ['2. Do your institution have provision for walking aids, including wheelchairs and transportation from one building to another for\\rhandicapped students?',\n",
       "  'Yes'],\n",
       " ['3. Do your institution buildings have specially designed toilets for handicapped students?',\n",
       "  'Yes, more than 80% of the buildings']]"
      ]
     },
     "execution_count": 93,
     "metadata": {},
     "output_type": "execute_result"
    }
   ],
   "source": [
    "for value in table9_df.values.tolist():\n",
    "    data.append(value)\n",
    "\n",
    "data\n"
   ]
  },
  {
   "cell_type": "code",
   "execution_count": 94,
   "id": "107017ce",
   "metadata": {},
   "outputs": [
    {
     "data": {
      "text/html": [
       "<div>\n",
       "<style scoped>\n",
       "    .dataframe tbody tr th:only-of-type {\n",
       "        vertical-align: middle;\n",
       "    }\n",
       "\n",
       "    .dataframe tbody tr th {\n",
       "        vertical-align: top;\n",
       "    }\n",
       "\n",
       "    .dataframe thead th {\n",
       "        text-align: right;\n",
       "    }\n",
       "</style>\n",
       "<table border=\"1\" class=\"dataframe\">\n",
       "  <thead>\n",
       "    <tr style=\"text-align: right;\">\n",
       "      <th></th>\n",
       "      <th>Question</th>\n",
       "      <th>Answer</th>\n",
       "    </tr>\n",
       "  </thead>\n",
       "  <tbody>\n",
       "    <tr>\n",
       "      <th>0</th>\n",
       "      <td>1. Do your institution buildings have Lifts/Ra...</td>\n",
       "      <td>Yes, more than 80% of the buildings</td>\n",
       "    </tr>\n",
       "    <tr>\n",
       "      <th>1</th>\n",
       "      <td>2. Do your institution have provision for walk...</td>\n",
       "      <td>Yes</td>\n",
       "    </tr>\n",
       "    <tr>\n",
       "      <th>2</th>\n",
       "      <td>3. Do your institution buildings have speciall...</td>\n",
       "      <td>Yes, more than 80% of the buildings</td>\n",
       "    </tr>\n",
       "  </tbody>\n",
       "</table>\n",
       "</div>"
      ],
      "text/plain": [
       "                                            Question  \\\n",
       "0  1. Do your institution buildings have Lifts/Ra...   \n",
       "1  2. Do your institution have provision for walk...   \n",
       "2  3. Do your institution buildings have speciall...   \n",
       "\n",
       "                                Answer  \n",
       "0  Yes, more than 80% of the buildings  \n",
       "1                                  Yes  \n",
       "2  Yes, more than 80% of the buildings  "
      ]
     },
     "execution_count": 94,
     "metadata": {},
     "output_type": "execute_result"
    }
   ],
   "source": [
    "df = pd.DataFrame(data, columns=['Question', 'Answer'])\n",
    "\n",
    "df"
   ]
  },
  {
   "cell_type": "markdown",
   "id": "3076a53b",
   "metadata": {},
   "source": [
    "# Table 10"
   ]
  },
  {
   "cell_type": "code",
   "execution_count": 40,
   "id": "aec1916d",
   "metadata": {},
   "outputs": [],
   "source": [
    "table10_df = nirf_df[12]"
   ]
  },
  {
   "cell_type": "code",
   "execution_count": 41,
   "id": "2c84cb0c",
   "metadata": {},
   "outputs": [
    {
     "data": {
      "text/html": [
       "<div>\n",
       "<style scoped>\n",
       "    .dataframe tbody tr th:only-of-type {\n",
       "        vertical-align: middle;\n",
       "    }\n",
       "\n",
       "    .dataframe tbody tr th {\n",
       "        vertical-align: top;\n",
       "    }\n",
       "\n",
       "    .dataframe thead th {\n",
       "        text-align: right;\n",
       "    }\n",
       "</style>\n",
       "<table border=\"1\" class=\"dataframe\">\n",
       "  <thead>\n",
       "    <tr style=\"text-align: right;\">\n",
       "      <th></th>\n",
       "      <th>Number of faculty members entered</th>\n",
       "      <th>394</th>\n",
       "    </tr>\n",
       "  </thead>\n",
       "  <tbody>\n",
       "  </tbody>\n",
       "</table>\n",
       "</div>"
      ],
      "text/plain": [
       "Empty DataFrame\n",
       "Columns: [Number of faculty members entered, 394]\n",
       "Index: []"
      ]
     },
     "execution_count": 41,
     "metadata": {},
     "output_type": "execute_result"
    }
   ],
   "source": [
    "table10_df.head()"
   ]
  },
  {
   "cell_type": "code",
   "execution_count": 95,
   "id": "b0f7d465",
   "metadata": {},
   "outputs": [
    {
     "data": {
      "text/plain": [
       "[['Number of faculty members entered', '394']]"
      ]
     },
     "execution_count": 95,
     "metadata": {},
     "output_type": "execute_result"
    }
   ],
   "source": [
    "data = [table10_df.columns.values.tolist()]\n",
    "\n",
    "data"
   ]
  },
  {
   "cell_type": "code",
   "execution_count": 96,
   "id": "0e523e49",
   "metadata": {},
   "outputs": [
    {
     "data": {
      "text/plain": [
       "[['Number of faculty members entered', '394']]"
      ]
     },
     "execution_count": 96,
     "metadata": {},
     "output_type": "execute_result"
    }
   ],
   "source": [
    "for value in table10_df.values.tolist():\n",
    "    data.append(value)\n",
    "\n",
    "data"
   ]
  },
  {
   "cell_type": "code",
   "execution_count": 97,
   "id": "f9b1acee",
   "metadata": {},
   "outputs": [
    {
     "data": {
      "text/html": [
       "<div>\n",
       "<style scoped>\n",
       "    .dataframe tbody tr th:only-of-type {\n",
       "        vertical-align: middle;\n",
       "    }\n",
       "\n",
       "    .dataframe tbody tr th {\n",
       "        vertical-align: top;\n",
       "    }\n",
       "\n",
       "    .dataframe thead th {\n",
       "        text-align: right;\n",
       "    }\n",
       "</style>\n",
       "<table border=\"1\" class=\"dataframe\">\n",
       "  <thead>\n",
       "    <tr style=\"text-align: right;\">\n",
       "      <th></th>\n",
       "      <th>Question</th>\n",
       "      <th>Answer</th>\n",
       "    </tr>\n",
       "  </thead>\n",
       "  <tbody>\n",
       "    <tr>\n",
       "      <th>0</th>\n",
       "      <td>Number of faculty members entered</td>\n",
       "      <td>394</td>\n",
       "    </tr>\n",
       "  </tbody>\n",
       "</table>\n",
       "</div>"
      ],
      "text/plain": [
       "                            Question Answer\n",
       "0  Number of faculty members entered    394"
      ]
     },
     "execution_count": 97,
     "metadata": {},
     "output_type": "execute_result"
    }
   ],
   "source": [
    "df = pd.DataFrame(data, columns=['Question', 'Answer'])\n",
    "\n",
    "df"
   ]
  }
 ],
 "metadata": {
  "kernelspec": {
   "display_name": "Python 3 (ipykernel)",
   "language": "python",
   "name": "python3"
  },
  "language_info": {
   "codemirror_mode": {
    "name": "ipython",
    "version": 3
   },
   "file_extension": ".py",
   "mimetype": "text/x-python",
   "name": "python",
   "nbconvert_exporter": "python",
   "pygments_lexer": "ipython3",
   "version": "3.11.7"
  }
 },
 "nbformat": 4,
 "nbformat_minor": 5
}
